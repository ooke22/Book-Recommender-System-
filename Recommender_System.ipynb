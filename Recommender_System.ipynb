{
 "cells": [
  {
   "cell_type": "code",
   "execution_count": 1,
   "outputs": [],
   "source": [
    "import numpy as np\n",
    "import pandas as pd\n",
    "import matplotlib.pyplot as plt\n",
    "%matplotlib inline\n",
    "import seaborn as sns\n",
    "import warnings\n",
    "warnings.filterwarnings(action =  'ignore')\n",
    "import os"
   ],
   "metadata": {
    "collapsed": false,
    "pycharm": {
     "name": "#%%\n"
    }
   }
  },
  {
   "cell_type": "code",
   "execution_count": 2,
   "outputs": [
    {
     "name": "stderr",
     "output_type": "stream",
     "text": [
      "Skipping line 6452: expected 8 fields, saw 9\n",
      "Skipping line 43667: expected 8 fields, saw 10\n",
      "Skipping line 51751: expected 8 fields, saw 9\n",
      "\n",
      "Skipping line 92038: expected 8 fields, saw 9\n",
      "Skipping line 104319: expected 8 fields, saw 9\n",
      "Skipping line 121768: expected 8 fields, saw 9\n",
      "\n",
      "Skipping line 144058: expected 8 fields, saw 9\n",
      "Skipping line 150789: expected 8 fields, saw 9\n",
      "Skipping line 157128: expected 8 fields, saw 9\n",
      "Skipping line 180189: expected 8 fields, saw 9\n",
      "Skipping line 185738: expected 8 fields, saw 9\n",
      "\n",
      "Skipping line 209388: expected 8 fields, saw 9\n",
      "Skipping line 220626: expected 8 fields, saw 9\n",
      "Skipping line 227933: expected 8 fields, saw 11\n",
      "Skipping line 228957: expected 8 fields, saw 10\n",
      "Skipping line 245933: expected 8 fields, saw 9\n",
      "Skipping line 251296: expected 8 fields, saw 9\n",
      "Skipping line 259941: expected 8 fields, saw 9\n",
      "Skipping line 261529: expected 8 fields, saw 9\n",
      "\n"
     ]
    }
   ],
   "source": [
    "books = pd.read_csv(r\"C:\\Books_Recommender_System\\books.csv\", encoding='latin-1', sep = ';', error_bad_lines=False)\n",
    "ratings = pd.read_csv(r\"C:\\Books_Recommender_System\\ratings.csv\", encoding='latin-1', sep = ';', error_bad_lines=False)\n",
    "users = pd.read_csv(r\"C:\\Books_Recommender_System\\users.csv\", encoding='latin-1', sep = ';', error_bad_lines=False)"
   ],
   "metadata": {
    "collapsed": false,
    "pycharm": {
     "name": "#%%\n"
    }
   }
  },
  {
   "cell_type": "code",
   "execution_count": 3,
   "outputs": [
    {
     "data": {
      "text/plain": "              ISBN                                         Book-Title  \\\n0       0195153448                                Classical Mythology   \n1       0002005018                                       Clara Callan   \n2       0060973129                               Decision in Normandy   \n3       0374157065  Flu: The Story of the Great Influenza Pandemic...   \n4       0393045218                             The Mummies of Urumchi   \n...            ...                                                ...   \n271355  0440400988                         There's a Bat in Bunk Five   \n271356  0525447644                            From One to One Hundred   \n271357  006008667X  Lily Dale : The True Story of the Town that Ta...   \n271358  0192126040                        Republic (World's Classics)   \n271359  0767409752  A Guided Tour of Rene Descartes' Meditations o...   \n\n                 Book-Author Year-Of-Publication  \\\n0         Mark P. O. Morford                2002   \n1       Richard Bruce Wright                2001   \n2               Carlo D'Este                1991   \n3           Gina Bari Kolata                1999   \n4            E. J. W. Barber                1999   \n...                      ...                 ...   \n271355        Paula Danziger                1988   \n271356            Teri Sloat                1991   \n271357      Christine Wicker                2004   \n271358                 Plato                1996   \n271359   Christopher  Biffle                2000   \n\n                                               Publisher  \\\n0                                Oxford University Press   \n1                                  HarperFlamingo Canada   \n2                                        HarperPerennial   \n3                                   Farrar Straus Giroux   \n4                             W. W. Norton &amp; Company   \n...                                                  ...   \n271355                   Random House Childrens Pub (Mm)   \n271356                                      Dutton Books   \n271357                                HarperSanFrancisco   \n271358                           Oxford University Press   \n271359  McGraw-Hill Humanities/Social Sciences/Languages   \n\n                                              Image-URL-S  \\\n0       http://images.amazon.com/images/P/0195153448.0...   \n1       http://images.amazon.com/images/P/0002005018.0...   \n2       http://images.amazon.com/images/P/0060973129.0...   \n3       http://images.amazon.com/images/P/0374157065.0...   \n4       http://images.amazon.com/images/P/0393045218.0...   \n...                                                   ...   \n271355  http://images.amazon.com/images/P/0440400988.0...   \n271356  http://images.amazon.com/images/P/0525447644.0...   \n271357  http://images.amazon.com/images/P/006008667X.0...   \n271358  http://images.amazon.com/images/P/0192126040.0...   \n271359  http://images.amazon.com/images/P/0767409752.0...   \n\n                                              Image-URL-M  \\\n0       http://images.amazon.com/images/P/0195153448.0...   \n1       http://images.amazon.com/images/P/0002005018.0...   \n2       http://images.amazon.com/images/P/0060973129.0...   \n3       http://images.amazon.com/images/P/0374157065.0...   \n4       http://images.amazon.com/images/P/0393045218.0...   \n...                                                   ...   \n271355  http://images.amazon.com/images/P/0440400988.0...   \n271356  http://images.amazon.com/images/P/0525447644.0...   \n271357  http://images.amazon.com/images/P/006008667X.0...   \n271358  http://images.amazon.com/images/P/0192126040.0...   \n271359  http://images.amazon.com/images/P/0767409752.0...   \n\n                                              Image-URL-L  \n0       http://images.amazon.com/images/P/0195153448.0...  \n1       http://images.amazon.com/images/P/0002005018.0...  \n2       http://images.amazon.com/images/P/0060973129.0...  \n3       http://images.amazon.com/images/P/0374157065.0...  \n4       http://images.amazon.com/images/P/0393045218.0...  \n...                                                   ...  \n271355  http://images.amazon.com/images/P/0440400988.0...  \n271356  http://images.amazon.com/images/P/0525447644.0...  \n271357  http://images.amazon.com/images/P/006008667X.0...  \n271358  http://images.amazon.com/images/P/0192126040.0...  \n271359  http://images.amazon.com/images/P/0767409752.0...  \n\n[271360 rows x 8 columns]",
      "text/html": "<div>\n<style scoped>\n    .dataframe tbody tr th:only-of-type {\n        vertical-align: middle;\n    }\n\n    .dataframe tbody tr th {\n        vertical-align: top;\n    }\n\n    .dataframe thead th {\n        text-align: right;\n    }\n</style>\n<table border=\"1\" class=\"dataframe\">\n  <thead>\n    <tr style=\"text-align: right;\">\n      <th></th>\n      <th>ISBN</th>\n      <th>Book-Title</th>\n      <th>Book-Author</th>\n      <th>Year-Of-Publication</th>\n      <th>Publisher</th>\n      <th>Image-URL-S</th>\n      <th>Image-URL-M</th>\n      <th>Image-URL-L</th>\n    </tr>\n  </thead>\n  <tbody>\n    <tr>\n      <th>0</th>\n      <td>0195153448</td>\n      <td>Classical Mythology</td>\n      <td>Mark P. O. Morford</td>\n      <td>2002</td>\n      <td>Oxford University Press</td>\n      <td>http://images.amazon.com/images/P/0195153448.0...</td>\n      <td>http://images.amazon.com/images/P/0195153448.0...</td>\n      <td>http://images.amazon.com/images/P/0195153448.0...</td>\n    </tr>\n    <tr>\n      <th>1</th>\n      <td>0002005018</td>\n      <td>Clara Callan</td>\n      <td>Richard Bruce Wright</td>\n      <td>2001</td>\n      <td>HarperFlamingo Canada</td>\n      <td>http://images.amazon.com/images/P/0002005018.0...</td>\n      <td>http://images.amazon.com/images/P/0002005018.0...</td>\n      <td>http://images.amazon.com/images/P/0002005018.0...</td>\n    </tr>\n    <tr>\n      <th>2</th>\n      <td>0060973129</td>\n      <td>Decision in Normandy</td>\n      <td>Carlo D'Este</td>\n      <td>1991</td>\n      <td>HarperPerennial</td>\n      <td>http://images.amazon.com/images/P/0060973129.0...</td>\n      <td>http://images.amazon.com/images/P/0060973129.0...</td>\n      <td>http://images.amazon.com/images/P/0060973129.0...</td>\n    </tr>\n    <tr>\n      <th>3</th>\n      <td>0374157065</td>\n      <td>Flu: The Story of the Great Influenza Pandemic...</td>\n      <td>Gina Bari Kolata</td>\n      <td>1999</td>\n      <td>Farrar Straus Giroux</td>\n      <td>http://images.amazon.com/images/P/0374157065.0...</td>\n      <td>http://images.amazon.com/images/P/0374157065.0...</td>\n      <td>http://images.amazon.com/images/P/0374157065.0...</td>\n    </tr>\n    <tr>\n      <th>4</th>\n      <td>0393045218</td>\n      <td>The Mummies of Urumchi</td>\n      <td>E. J. W. Barber</td>\n      <td>1999</td>\n      <td>W. W. Norton &amp;amp; Company</td>\n      <td>http://images.amazon.com/images/P/0393045218.0...</td>\n      <td>http://images.amazon.com/images/P/0393045218.0...</td>\n      <td>http://images.amazon.com/images/P/0393045218.0...</td>\n    </tr>\n    <tr>\n      <th>...</th>\n      <td>...</td>\n      <td>...</td>\n      <td>...</td>\n      <td>...</td>\n      <td>...</td>\n      <td>...</td>\n      <td>...</td>\n      <td>...</td>\n    </tr>\n    <tr>\n      <th>271355</th>\n      <td>0440400988</td>\n      <td>There's a Bat in Bunk Five</td>\n      <td>Paula Danziger</td>\n      <td>1988</td>\n      <td>Random House Childrens Pub (Mm)</td>\n      <td>http://images.amazon.com/images/P/0440400988.0...</td>\n      <td>http://images.amazon.com/images/P/0440400988.0...</td>\n      <td>http://images.amazon.com/images/P/0440400988.0...</td>\n    </tr>\n    <tr>\n      <th>271356</th>\n      <td>0525447644</td>\n      <td>From One to One Hundred</td>\n      <td>Teri Sloat</td>\n      <td>1991</td>\n      <td>Dutton Books</td>\n      <td>http://images.amazon.com/images/P/0525447644.0...</td>\n      <td>http://images.amazon.com/images/P/0525447644.0...</td>\n      <td>http://images.amazon.com/images/P/0525447644.0...</td>\n    </tr>\n    <tr>\n      <th>271357</th>\n      <td>006008667X</td>\n      <td>Lily Dale : The True Story of the Town that Ta...</td>\n      <td>Christine Wicker</td>\n      <td>2004</td>\n      <td>HarperSanFrancisco</td>\n      <td>http://images.amazon.com/images/P/006008667X.0...</td>\n      <td>http://images.amazon.com/images/P/006008667X.0...</td>\n      <td>http://images.amazon.com/images/P/006008667X.0...</td>\n    </tr>\n    <tr>\n      <th>271358</th>\n      <td>0192126040</td>\n      <td>Republic (World's Classics)</td>\n      <td>Plato</td>\n      <td>1996</td>\n      <td>Oxford University Press</td>\n      <td>http://images.amazon.com/images/P/0192126040.0...</td>\n      <td>http://images.amazon.com/images/P/0192126040.0...</td>\n      <td>http://images.amazon.com/images/P/0192126040.0...</td>\n    </tr>\n    <tr>\n      <th>271359</th>\n      <td>0767409752</td>\n      <td>A Guided Tour of Rene Descartes' Meditations o...</td>\n      <td>Christopher  Biffle</td>\n      <td>2000</td>\n      <td>McGraw-Hill Humanities/Social Sciences/Languages</td>\n      <td>http://images.amazon.com/images/P/0767409752.0...</td>\n      <td>http://images.amazon.com/images/P/0767409752.0...</td>\n      <td>http://images.amazon.com/images/P/0767409752.0...</td>\n    </tr>\n  </tbody>\n</table>\n<p>271360 rows × 8 columns</p>\n</div>"
     },
     "execution_count": 3,
     "metadata": {},
     "output_type": "execute_result"
    }
   ],
   "source": [
    "books"
   ],
   "metadata": {
    "collapsed": false,
    "pycharm": {
     "name": "#%%\n"
    }
   }
  },
  {
   "cell_type": "code",
   "execution_count": 4,
   "outputs": [
    {
     "data": {
      "text/plain": "         User-ID         ISBN  Book-Rating\n0         276725   034545104X            0\n1         276726   0155061224            5\n2         276727   0446520802            0\n3         276729   052165615X            3\n4         276729   0521795028            6\n...          ...          ...          ...\n1149775   276704   1563526298            9\n1149776   276706   0679447156            0\n1149777   276709   0515107662           10\n1149778   276721   0590442449           10\n1149779   276723  05162443314            8\n\n[1149780 rows x 3 columns]",
      "text/html": "<div>\n<style scoped>\n    .dataframe tbody tr th:only-of-type {\n        vertical-align: middle;\n    }\n\n    .dataframe tbody tr th {\n        vertical-align: top;\n    }\n\n    .dataframe thead th {\n        text-align: right;\n    }\n</style>\n<table border=\"1\" class=\"dataframe\">\n  <thead>\n    <tr style=\"text-align: right;\">\n      <th></th>\n      <th>User-ID</th>\n      <th>ISBN</th>\n      <th>Book-Rating</th>\n    </tr>\n  </thead>\n  <tbody>\n    <tr>\n      <th>0</th>\n      <td>276725</td>\n      <td>034545104X</td>\n      <td>0</td>\n    </tr>\n    <tr>\n      <th>1</th>\n      <td>276726</td>\n      <td>0155061224</td>\n      <td>5</td>\n    </tr>\n    <tr>\n      <th>2</th>\n      <td>276727</td>\n      <td>0446520802</td>\n      <td>0</td>\n    </tr>\n    <tr>\n      <th>3</th>\n      <td>276729</td>\n      <td>052165615X</td>\n      <td>3</td>\n    </tr>\n    <tr>\n      <th>4</th>\n      <td>276729</td>\n      <td>0521795028</td>\n      <td>6</td>\n    </tr>\n    <tr>\n      <th>...</th>\n      <td>...</td>\n      <td>...</td>\n      <td>...</td>\n    </tr>\n    <tr>\n      <th>1149775</th>\n      <td>276704</td>\n      <td>1563526298</td>\n      <td>9</td>\n    </tr>\n    <tr>\n      <th>1149776</th>\n      <td>276706</td>\n      <td>0679447156</td>\n      <td>0</td>\n    </tr>\n    <tr>\n      <th>1149777</th>\n      <td>276709</td>\n      <td>0515107662</td>\n      <td>10</td>\n    </tr>\n    <tr>\n      <th>1149778</th>\n      <td>276721</td>\n      <td>0590442449</td>\n      <td>10</td>\n    </tr>\n    <tr>\n      <th>1149779</th>\n      <td>276723</td>\n      <td>05162443314</td>\n      <td>8</td>\n    </tr>\n  </tbody>\n</table>\n<p>1149780 rows × 3 columns</p>\n</div>"
     },
     "execution_count": 4,
     "metadata": {},
     "output_type": "execute_result"
    }
   ],
   "source": [
    "ratings"
   ],
   "metadata": {
    "collapsed": false,
    "pycharm": {
     "name": "#%%\n"
    }
   }
  },
  {
   "cell_type": "code",
   "execution_count": 5,
   "outputs": [
    {
     "data": {
      "text/plain": "        User-ID                            Location   Age\n0             1                  nyc, new york, usa   NaN\n1             2           stockton, california, usa  18.0\n2             3     moscow, yukon territory, russia   NaN\n3             4           porto, v.n.gaia, portugal  17.0\n4             5  farnborough, hants, united kingdom   NaN\n...         ...                                 ...   ...\n278853   278854               portland, oregon, usa   NaN\n278854   278855  tacoma, washington, united kingdom  50.0\n278855   278856           brampton, ontario, canada   NaN\n278856   278857           knoxville, tennessee, usa   NaN\n278857   278858                dublin, n/a, ireland   NaN\n\n[278858 rows x 3 columns]",
      "text/html": "<div>\n<style scoped>\n    .dataframe tbody tr th:only-of-type {\n        vertical-align: middle;\n    }\n\n    .dataframe tbody tr th {\n        vertical-align: top;\n    }\n\n    .dataframe thead th {\n        text-align: right;\n    }\n</style>\n<table border=\"1\" class=\"dataframe\">\n  <thead>\n    <tr style=\"text-align: right;\">\n      <th></th>\n      <th>User-ID</th>\n      <th>Location</th>\n      <th>Age</th>\n    </tr>\n  </thead>\n  <tbody>\n    <tr>\n      <th>0</th>\n      <td>1</td>\n      <td>nyc, new york, usa</td>\n      <td>NaN</td>\n    </tr>\n    <tr>\n      <th>1</th>\n      <td>2</td>\n      <td>stockton, california, usa</td>\n      <td>18.0</td>\n    </tr>\n    <tr>\n      <th>2</th>\n      <td>3</td>\n      <td>moscow, yukon territory, russia</td>\n      <td>NaN</td>\n    </tr>\n    <tr>\n      <th>3</th>\n      <td>4</td>\n      <td>porto, v.n.gaia, portugal</td>\n      <td>17.0</td>\n    </tr>\n    <tr>\n      <th>4</th>\n      <td>5</td>\n      <td>farnborough, hants, united kingdom</td>\n      <td>NaN</td>\n    </tr>\n    <tr>\n      <th>...</th>\n      <td>...</td>\n      <td>...</td>\n      <td>...</td>\n    </tr>\n    <tr>\n      <th>278853</th>\n      <td>278854</td>\n      <td>portland, oregon, usa</td>\n      <td>NaN</td>\n    </tr>\n    <tr>\n      <th>278854</th>\n      <td>278855</td>\n      <td>tacoma, washington, united kingdom</td>\n      <td>50.0</td>\n    </tr>\n    <tr>\n      <th>278855</th>\n      <td>278856</td>\n      <td>brampton, ontario, canada</td>\n      <td>NaN</td>\n    </tr>\n    <tr>\n      <th>278856</th>\n      <td>278857</td>\n      <td>knoxville, tennessee, usa</td>\n      <td>NaN</td>\n    </tr>\n    <tr>\n      <th>278857</th>\n      <td>278858</td>\n      <td>dublin, n/a, ireland</td>\n      <td>NaN</td>\n    </tr>\n  </tbody>\n</table>\n<p>278858 rows × 3 columns</p>\n</div>"
     },
     "execution_count": 5,
     "metadata": {},
     "output_type": "execute_result"
    }
   ],
   "source": [
    "users"
   ],
   "metadata": {
    "collapsed": false,
    "pycharm": {
     "name": "#%%\n"
    }
   }
  },
  {
   "cell_type": "markdown",
   "source": [
    "#### Data Preprocessing and Cleaning"
   ],
   "metadata": {
    "collapsed": false,
    "pycharm": {
     "name": "#%% md\n"
    }
   }
  },
  {
   "cell_type": "code",
   "execution_count": 6,
   "outputs": [
    {
     "name": "stdout",
     "output_type": "stream",
     "text": [
      "(271360, 8)\n",
      "(1149780, 3)\n",
      "(278858, 3)\n"
     ]
    }
   ],
   "source": [
    "print(books.shape)\n",
    "print(ratings.shape)\n",
    "print(users.shape)"
   ],
   "metadata": {
    "collapsed": false,
    "pycharm": {
     "name": "#%%\n"
    }
   }
  },
  {
   "cell_type": "code",
   "execution_count": 7,
   "outputs": [
    {
     "name": "stdout",
     "output_type": "stream",
     "text": [
      "<class 'pandas.core.frame.DataFrame'>\n",
      "RangeIndex: 271360 entries, 0 to 271359\n",
      "Data columns (total 8 columns):\n",
      " #   Column               Non-Null Count   Dtype \n",
      "---  ------               --------------   ----- \n",
      " 0   ISBN                 271360 non-null  object\n",
      " 1   Book-Title           271360 non-null  object\n",
      " 2   Book-Author          271359 non-null  object\n",
      " 3   Year-Of-Publication  271360 non-null  object\n",
      " 4   Publisher            271358 non-null  object\n",
      " 5   Image-URL-S          271360 non-null  object\n",
      " 6   Image-URL-M          271360 non-null  object\n",
      " 7   Image-URL-L          271357 non-null  object\n",
      "dtypes: object(8)\n",
      "memory usage: 16.6+ MB\n"
     ]
    }
   ],
   "source": [
    "books.info()"
   ],
   "metadata": {
    "collapsed": false,
    "pycharm": {
     "name": "#%%\n"
    }
   }
  },
  {
   "cell_type": "markdown",
   "source": [
    "###### <font color='orange'> Things to note: The year of publication is an object and may need to be changed to a float/int."
   ],
   "metadata": {
    "collapsed": false,
    "pycharm": {
     "name": "#%% md\n"
    }
   }
  },
  {
   "cell_type": "code",
   "execution_count": 8,
   "outputs": [
    {
     "data": {
      "text/plain": "ISBN                   271360\nBook-Title             242135\nBook-Author            102023\nYear-Of-Publication       202\nPublisher               16807\nImage-URL-S            271044\nImage-URL-M            271044\nImage-URL-L            271041\ndtype: int64"
     },
     "execution_count": 8,
     "metadata": {},
     "output_type": "execute_result"
    }
   ],
   "source": [
    "books.nunique()"
   ],
   "metadata": {
    "collapsed": false,
    "pycharm": {
     "name": "#%%\n"
    }
   }
  },
  {
   "cell_type": "code",
   "execution_count": 9,
   "outputs": [
    {
     "data": {
      "text/plain": "ISBN                   0\nBook-Title             0\nBook-Author            1\nYear-Of-Publication    0\nPublisher              2\nImage-URL-S            0\nImage-URL-M            0\nImage-URL-L            3\ndtype: int64"
     },
     "execution_count": 9,
     "metadata": {},
     "output_type": "execute_result"
    }
   ],
   "source": [
    "books.isnull().sum()"
   ],
   "metadata": {
    "collapsed": false,
    "pycharm": {
     "name": "#%%\n"
    }
   }
  },
  {
   "cell_type": "code",
   "execution_count": 10,
   "outputs": [
    {
     "data": {
      "text/plain": "ISBN                   0\nBook-Title             0\nBook-Author            0\nYear-Of-Publication    0\nPublisher              0\nImage-URL-S            0\nImage-URL-M            0\nImage-URL-L            0\ndtype: int64"
     },
     "execution_count": 10,
     "metadata": {},
     "output_type": "execute_result"
    }
   ],
   "source": [
    "books1 = books.dropna()\n",
    "books1.isnull().sum()"
   ],
   "metadata": {
    "collapsed": false,
    "pycharm": {
     "name": "#%%\n"
    }
   }
  },
  {
   "cell_type": "code",
   "execution_count": 11,
   "outputs": [
    {
     "data": {
      "text/plain": "0"
     },
     "execution_count": 11,
     "metadata": {},
     "output_type": "execute_result"
    }
   ],
   "source": [
    "books1.duplicated().sum()"
   ],
   "metadata": {
    "collapsed": false,
    "pycharm": {
     "name": "#%%\n"
    }
   }
  },
  {
   "cell_type": "code",
   "execution_count": 12,
   "outputs": [
    {
     "name": "stdout",
     "output_type": "stream",
     "text": [
      "<class 'pandas.core.frame.DataFrame'>\n",
      "RangeIndex: 1149780 entries, 0 to 1149779\n",
      "Data columns (total 3 columns):\n",
      " #   Column       Non-Null Count    Dtype \n",
      "---  ------       --------------    ----- \n",
      " 0   User-ID      1149780 non-null  int64 \n",
      " 1   ISBN         1149780 non-null  object\n",
      " 2   Book-Rating  1149780 non-null  int64 \n",
      "dtypes: int64(2), object(1)\n",
      "memory usage: 26.3+ MB\n"
     ]
    }
   ],
   "source": [
    "ratings.info()"
   ],
   "metadata": {
    "collapsed": false,
    "pycharm": {
     "name": "#%%\n"
    }
   }
  },
  {
   "cell_type": "code",
   "execution_count": 13,
   "outputs": [
    {
     "data": {
      "text/plain": "User-ID        105283\nISBN           340556\nBook-Rating        11\ndtype: int64"
     },
     "execution_count": 13,
     "metadata": {},
     "output_type": "execute_result"
    }
   ],
   "source": [
    "ratings.nunique()"
   ],
   "metadata": {
    "collapsed": false,
    "pycharm": {
     "name": "#%%\n"
    }
   }
  },
  {
   "cell_type": "code",
   "execution_count": 14,
   "outputs": [
    {
     "name": "stdout",
     "output_type": "stream",
     "text": [
      "0\n"
     ]
    },
    {
     "data": {
      "text/plain": "User-ID        0\nISBN           0\nBook-Rating    0\ndtype: int64"
     },
     "execution_count": 14,
     "metadata": {},
     "output_type": "execute_result"
    }
   ],
   "source": [
    "print(ratings.duplicated().sum())\n",
    "ratings.isnull().sum()"
   ],
   "metadata": {
    "collapsed": false,
    "pycharm": {
     "name": "#%%\n"
    }
   }
  },
  {
   "cell_type": "code",
   "execution_count": 15,
   "outputs": [
    {
     "name": "stdout",
     "output_type": "stream",
     "text": [
      "<class 'pandas.core.frame.DataFrame'>\n",
      "RangeIndex: 278858 entries, 0 to 278857\n",
      "Data columns (total 3 columns):\n",
      " #   Column    Non-Null Count   Dtype  \n",
      "---  ------    --------------   -----  \n",
      " 0   User-ID   278858 non-null  int64  \n",
      " 1   Location  278858 non-null  object \n",
      " 2   Age       168096 non-null  float64\n",
      "dtypes: float64(1), int64(1), object(1)\n",
      "memory usage: 6.4+ MB\n"
     ]
    }
   ],
   "source": [
    "users.info()"
   ],
   "metadata": {
    "collapsed": false,
    "pycharm": {
     "name": "#%%\n"
    }
   }
  },
  {
   "cell_type": "code",
   "execution_count": 16,
   "outputs": [
    {
     "data": {
      "text/plain": "User-ID     278858\nLocation     57339\nAge            165\ndtype: int64"
     },
     "execution_count": 16,
     "metadata": {},
     "output_type": "execute_result"
    }
   ],
   "source": [
    "users.nunique()"
   ],
   "metadata": {
    "collapsed": false,
    "pycharm": {
     "name": "#%%\n"
    }
   }
  },
  {
   "cell_type": "code",
   "execution_count": 17,
   "outputs": [
    {
     "name": "stdout",
     "output_type": "stream",
     "text": [
      "0\n"
     ]
    },
    {
     "data": {
      "text/plain": "User-ID          0\nLocation         0\nAge         110762\ndtype: int64"
     },
     "execution_count": 17,
     "metadata": {},
     "output_type": "execute_result"
    }
   ],
   "source": [
    "print(users.duplicated().sum())\n",
    "users.isnull().sum()"
   ],
   "metadata": {
    "collapsed": false,
    "pycharm": {
     "name": "#%%\n"
    }
   }
  },
  {
   "cell_type": "code",
   "execution_count": 18,
   "outputs": [
    {
     "data": {
      "text/plain": "User-ID     0\nLocation    0\nAge         0\ndtype: int64"
     },
     "execution_count": 18,
     "metadata": {},
     "output_type": "execute_result"
    }
   ],
   "source": [
    "users1 = users.dropna()\n",
    "users1.isnull().sum()"
   ],
   "metadata": {
    "collapsed": false,
    "pycharm": {
     "name": "#%%\n"
    }
   }
  },
  {
   "cell_type": "markdown",
   "source": [
    "#### EDA"
   ],
   "metadata": {
    "collapsed": false,
    "pycharm": {
     "name": "#%% md\n"
    }
   }
  },
  {
   "cell_type": "code",
   "execution_count": 19,
   "outputs": [
    {
     "data": {
      "text/plain": "0     716109\n8     103736\n10     78610\n7      76457\n9      67541\n5      50974\n6      36924\n4       8904\n3       5996\n2       2759\n1       1770\nName: Book-Rating, dtype: int64"
     },
     "execution_count": 19,
     "metadata": {},
     "output_type": "execute_result"
    }
   ],
   "source": [
    "ratings['Book-Rating'].value_counts().sort_values(ascending = False)"
   ],
   "metadata": {
    "collapsed": false,
    "pycharm": {
     "name": "#%%\n"
    }
   }
  },
  {
   "cell_type": "markdown",
   "source": [
    "###### <font color='orange'> Book ratings range from 1-10. <br> - 716109 books received a rating of 0. <br> - 103736 books received a rating of 8."
   ],
   "metadata": {
    "collapsed": false,
    "pycharm": {
     "name": "#%% md\n"
    }
   }
  },
  {
   "cell_type": "code",
   "execution_count": 20,
   "outputs": [
    {
     "data": {
      "text/plain": "         User-ID        ISBN  Book-Rating  \\\n0         276725  034545104X            0   \n1           2313  034545104X            5   \n2           6543  034545104X            0   \n3           8680  034545104X            5   \n4          10314  034545104X            9   \n...          ...         ...          ...   \n1031124   276688  0517145553            0   \n1031125   276688  1575660792            7   \n1031126   276690  0590907301            0   \n1031127   276704  0679752714            0   \n1031128   276704  0806917695            5   \n\n                                                Book-Title      Book-Author  \\\n0                                     Flesh Tones: A Novel       M. J. Rose   \n1                                     Flesh Tones: A Novel       M. J. Rose   \n2                                     Flesh Tones: A Novel       M. J. Rose   \n3                                     Flesh Tones: A Novel       M. J. Rose   \n4                                     Flesh Tones: A Novel       M. J. Rose   \n...                                                    ...              ...   \n1031124                                    Mostly Harmless    Douglas Adams   \n1031125                                        Gray Matter  Shirley Kennett   \n1031126  Triplet Trouble and the Class Trip (Triplet Tr...     Debbie Dadey   \n1031127  A Desert of Pure Feeling (Vintage Contemporaries)   Judith Freeman   \n1031128  Perplexing Lateral Thinking Puzzles: Scholasti...      Paul Sloane   \n\n        Year-Of-Publication                          Publisher  \\\n0                      2002                   Ballantine Books   \n1                      2002                   Ballantine Books   \n2                      2002                   Ballantine Books   \n3                      2002                   Ballantine Books   \n4                      2002                   Ballantine Books   \n...                     ...                                ...   \n1031124                1995             Random House Value Pub   \n1031125                1996  Kensington Publishing Corporation   \n1031126                1997                              Apple   \n1031127                1997                  Vintage Books USA   \n1031128                1997                Sterling Publishing   \n\n                                               Image-URL-S  \\\n0        http://images.amazon.com/images/P/034545104X.0...   \n1        http://images.amazon.com/images/P/034545104X.0...   \n2        http://images.amazon.com/images/P/034545104X.0...   \n3        http://images.amazon.com/images/P/034545104X.0...   \n4        http://images.amazon.com/images/P/034545104X.0...   \n...                                                    ...   \n1031124  http://images.amazon.com/images/P/0517145553.0...   \n1031125  http://images.amazon.com/images/P/1575660792.0...   \n1031126  http://images.amazon.com/images/P/0590907301.0...   \n1031127  http://images.amazon.com/images/P/0679752714.0...   \n1031128  http://images.amazon.com/images/P/0806917695.0...   \n\n                                               Image-URL-M  \\\n0        http://images.amazon.com/images/P/034545104X.0...   \n1        http://images.amazon.com/images/P/034545104X.0...   \n2        http://images.amazon.com/images/P/034545104X.0...   \n3        http://images.amazon.com/images/P/034545104X.0...   \n4        http://images.amazon.com/images/P/034545104X.0...   \n...                                                    ...   \n1031124  http://images.amazon.com/images/P/0517145553.0...   \n1031125  http://images.amazon.com/images/P/1575660792.0...   \n1031126  http://images.amazon.com/images/P/0590907301.0...   \n1031127  http://images.amazon.com/images/P/0679752714.0...   \n1031128  http://images.amazon.com/images/P/0806917695.0...   \n\n                                               Image-URL-L  \n0        http://images.amazon.com/images/P/034545104X.0...  \n1        http://images.amazon.com/images/P/034545104X.0...  \n2        http://images.amazon.com/images/P/034545104X.0...  \n3        http://images.amazon.com/images/P/034545104X.0...  \n4        http://images.amazon.com/images/P/034545104X.0...  \n...                                                    ...  \n1031124  http://images.amazon.com/images/P/0517145553.0...  \n1031125  http://images.amazon.com/images/P/1575660792.0...  \n1031126  http://images.amazon.com/images/P/0590907301.0...  \n1031127  http://images.amazon.com/images/P/0679752714.0...  \n1031128  http://images.amazon.com/images/P/0806917695.0...  \n\n[1031129 rows x 10 columns]",
      "text/html": "<div>\n<style scoped>\n    .dataframe tbody tr th:only-of-type {\n        vertical-align: middle;\n    }\n\n    .dataframe tbody tr th {\n        vertical-align: top;\n    }\n\n    .dataframe thead th {\n        text-align: right;\n    }\n</style>\n<table border=\"1\" class=\"dataframe\">\n  <thead>\n    <tr style=\"text-align: right;\">\n      <th></th>\n      <th>User-ID</th>\n      <th>ISBN</th>\n      <th>Book-Rating</th>\n      <th>Book-Title</th>\n      <th>Book-Author</th>\n      <th>Year-Of-Publication</th>\n      <th>Publisher</th>\n      <th>Image-URL-S</th>\n      <th>Image-URL-M</th>\n      <th>Image-URL-L</th>\n    </tr>\n  </thead>\n  <tbody>\n    <tr>\n      <th>0</th>\n      <td>276725</td>\n      <td>034545104X</td>\n      <td>0</td>\n      <td>Flesh Tones: A Novel</td>\n      <td>M. J. Rose</td>\n      <td>2002</td>\n      <td>Ballantine Books</td>\n      <td>http://images.amazon.com/images/P/034545104X.0...</td>\n      <td>http://images.amazon.com/images/P/034545104X.0...</td>\n      <td>http://images.amazon.com/images/P/034545104X.0...</td>\n    </tr>\n    <tr>\n      <th>1</th>\n      <td>2313</td>\n      <td>034545104X</td>\n      <td>5</td>\n      <td>Flesh Tones: A Novel</td>\n      <td>M. J. Rose</td>\n      <td>2002</td>\n      <td>Ballantine Books</td>\n      <td>http://images.amazon.com/images/P/034545104X.0...</td>\n      <td>http://images.amazon.com/images/P/034545104X.0...</td>\n      <td>http://images.amazon.com/images/P/034545104X.0...</td>\n    </tr>\n    <tr>\n      <th>2</th>\n      <td>6543</td>\n      <td>034545104X</td>\n      <td>0</td>\n      <td>Flesh Tones: A Novel</td>\n      <td>M. J. Rose</td>\n      <td>2002</td>\n      <td>Ballantine Books</td>\n      <td>http://images.amazon.com/images/P/034545104X.0...</td>\n      <td>http://images.amazon.com/images/P/034545104X.0...</td>\n      <td>http://images.amazon.com/images/P/034545104X.0...</td>\n    </tr>\n    <tr>\n      <th>3</th>\n      <td>8680</td>\n      <td>034545104X</td>\n      <td>5</td>\n      <td>Flesh Tones: A Novel</td>\n      <td>M. J. Rose</td>\n      <td>2002</td>\n      <td>Ballantine Books</td>\n      <td>http://images.amazon.com/images/P/034545104X.0...</td>\n      <td>http://images.amazon.com/images/P/034545104X.0...</td>\n      <td>http://images.amazon.com/images/P/034545104X.0...</td>\n    </tr>\n    <tr>\n      <th>4</th>\n      <td>10314</td>\n      <td>034545104X</td>\n      <td>9</td>\n      <td>Flesh Tones: A Novel</td>\n      <td>M. J. Rose</td>\n      <td>2002</td>\n      <td>Ballantine Books</td>\n      <td>http://images.amazon.com/images/P/034545104X.0...</td>\n      <td>http://images.amazon.com/images/P/034545104X.0...</td>\n      <td>http://images.amazon.com/images/P/034545104X.0...</td>\n    </tr>\n    <tr>\n      <th>...</th>\n      <td>...</td>\n      <td>...</td>\n      <td>...</td>\n      <td>...</td>\n      <td>...</td>\n      <td>...</td>\n      <td>...</td>\n      <td>...</td>\n      <td>...</td>\n      <td>...</td>\n    </tr>\n    <tr>\n      <th>1031124</th>\n      <td>276688</td>\n      <td>0517145553</td>\n      <td>0</td>\n      <td>Mostly Harmless</td>\n      <td>Douglas Adams</td>\n      <td>1995</td>\n      <td>Random House Value Pub</td>\n      <td>http://images.amazon.com/images/P/0517145553.0...</td>\n      <td>http://images.amazon.com/images/P/0517145553.0...</td>\n      <td>http://images.amazon.com/images/P/0517145553.0...</td>\n    </tr>\n    <tr>\n      <th>1031125</th>\n      <td>276688</td>\n      <td>1575660792</td>\n      <td>7</td>\n      <td>Gray Matter</td>\n      <td>Shirley Kennett</td>\n      <td>1996</td>\n      <td>Kensington Publishing Corporation</td>\n      <td>http://images.amazon.com/images/P/1575660792.0...</td>\n      <td>http://images.amazon.com/images/P/1575660792.0...</td>\n      <td>http://images.amazon.com/images/P/1575660792.0...</td>\n    </tr>\n    <tr>\n      <th>1031126</th>\n      <td>276690</td>\n      <td>0590907301</td>\n      <td>0</td>\n      <td>Triplet Trouble and the Class Trip (Triplet Tr...</td>\n      <td>Debbie Dadey</td>\n      <td>1997</td>\n      <td>Apple</td>\n      <td>http://images.amazon.com/images/P/0590907301.0...</td>\n      <td>http://images.amazon.com/images/P/0590907301.0...</td>\n      <td>http://images.amazon.com/images/P/0590907301.0...</td>\n    </tr>\n    <tr>\n      <th>1031127</th>\n      <td>276704</td>\n      <td>0679752714</td>\n      <td>0</td>\n      <td>A Desert of Pure Feeling (Vintage Contemporaries)</td>\n      <td>Judith Freeman</td>\n      <td>1997</td>\n      <td>Vintage Books USA</td>\n      <td>http://images.amazon.com/images/P/0679752714.0...</td>\n      <td>http://images.amazon.com/images/P/0679752714.0...</td>\n      <td>http://images.amazon.com/images/P/0679752714.0...</td>\n    </tr>\n    <tr>\n      <th>1031128</th>\n      <td>276704</td>\n      <td>0806917695</td>\n      <td>5</td>\n      <td>Perplexing Lateral Thinking Puzzles: Scholasti...</td>\n      <td>Paul Sloane</td>\n      <td>1997</td>\n      <td>Sterling Publishing</td>\n      <td>http://images.amazon.com/images/P/0806917695.0...</td>\n      <td>http://images.amazon.com/images/P/0806917695.0...</td>\n      <td>http://images.amazon.com/images/P/0806917695.0...</td>\n    </tr>\n  </tbody>\n</table>\n<p>1031129 rows × 10 columns</p>\n</div>"
     },
     "execution_count": 20,
     "metadata": {},
     "output_type": "execute_result"
    }
   ],
   "source": [
    "merged_ratings = ratings.merge(books1, on ='ISBN')\n",
    "merged_ratings"
   ],
   "metadata": {
    "collapsed": false,
    "pycharm": {
     "name": "#%%\n"
    }
   }
  },
  {
   "cell_type": "code",
   "execution_count": 21,
   "outputs": [
    {
     "data": {
      "text/plain": "                                                    User-ID  ISBN  \\\nBook-Title                                                          \n A Light in the Storm: The Civil War Diary of A...        4     4   \n Always Have Popsicles                                    1     1   \n Apple Magic (The Collector's series)                     1     1   \n Ask Lily (Young Women of Faith: Lily Series, B...        1     1   \n Beyond IBM: Leadership Marketing and Finance f...        1     1   \n...                                                     ...   ...   \nÃ?Â?lpiraten.                                             2     2   \nÃ?Â?rger mit Produkt X. Roman.                            4     4   \nÃ?Â?sterlich leben.                                       1     1   \nÃ?Â?stlich der Berge.                                     3     3   \nÃ?Â?thique en toc                                         2     2   \n\n                                                    Book-Rating  Book-Author  \\\nBook-Title                                                                     \n A Light in the Storm: The Civil War Diary of A...            4            4   \n Always Have Popsicles                                        1            1   \n Apple Magic (The Collector's series)                         1            1   \n Ask Lily (Young Women of Faith: Lily Series, B...            1            1   \n Beyond IBM: Leadership Marketing and Finance f...            1            1   \n...                                                         ...          ...   \nÃ?Â?lpiraten.                                                 2            2   \nÃ?Â?rger mit Produkt X. Roman.                                4            4   \nÃ?Â?sterlich leben.                                           1            1   \nÃ?Â?stlich der Berge.                                         3            3   \nÃ?Â?thique en toc                                             2            2   \n\n                                                    Year-Of-Publication  \\\nBook-Title                                                                \n A Light in the Storm: The Civil War Diary of A...                    4   \n Always Have Popsicles                                                1   \n Apple Magic (The Collector's series)                                 1   \n Ask Lily (Young Women of Faith: Lily Series, B...                    1   \n Beyond IBM: Leadership Marketing and Finance f...                    1   \n...                                                                 ...   \nÃ?Â?lpiraten.                                                         2   \nÃ?Â?rger mit Produkt X. Roman.                                        4   \nÃ?Â?sterlich leben.                                                   1   \nÃ?Â?stlich der Berge.                                                 3   \nÃ?Â?thique en toc                                                     2   \n\n                                                    Publisher  Image-URL-S  \\\nBook-Title                                                                   \n A Light in the Storm: The Civil War Diary of A...          4            4   \n Always Have Popsicles                                      1            1   \n Apple Magic (The Collector's series)                       1            1   \n Ask Lily (Young Women of Faith: Lily Series, B...          1            1   \n Beyond IBM: Leadership Marketing and Finance f...          1            1   \n...                                                       ...          ...   \nÃ?Â?lpiraten.                                               2            2   \nÃ?Â?rger mit Produkt X. Roman.                              4            4   \nÃ?Â?sterlich leben.                                         1            1   \nÃ?Â?stlich der Berge.                                       3            3   \nÃ?Â?thique en toc                                           2            2   \n\n                                                    Image-URL-M  Image-URL-L  \nBook-Title                                                                    \n A Light in the Storm: The Civil War Diary of A...            4            4  \n Always Have Popsicles                                        1            1  \n Apple Magic (The Collector's series)                         1            1  \n Ask Lily (Young Women of Faith: Lily Series, B...            1            1  \n Beyond IBM: Leadership Marketing and Finance f...            1            1  \n...                                                         ...          ...  \nÃ?Â?lpiraten.                                                 2            2  \nÃ?Â?rger mit Produkt X. Roman.                                4            4  \nÃ?Â?sterlich leben.                                           1            1  \nÃ?Â?stlich der Berge.                                         3            3  \nÃ?Â?thique en toc                                             2            2  \n\n[241066 rows x 9 columns]",
      "text/html": "<div>\n<style scoped>\n    .dataframe tbody tr th:only-of-type {\n        vertical-align: middle;\n    }\n\n    .dataframe tbody tr th {\n        vertical-align: top;\n    }\n\n    .dataframe thead th {\n        text-align: right;\n    }\n</style>\n<table border=\"1\" class=\"dataframe\">\n  <thead>\n    <tr style=\"text-align: right;\">\n      <th></th>\n      <th>User-ID</th>\n      <th>ISBN</th>\n      <th>Book-Rating</th>\n      <th>Book-Author</th>\n      <th>Year-Of-Publication</th>\n      <th>Publisher</th>\n      <th>Image-URL-S</th>\n      <th>Image-URL-M</th>\n      <th>Image-URL-L</th>\n    </tr>\n    <tr>\n      <th>Book-Title</th>\n      <th></th>\n      <th></th>\n      <th></th>\n      <th></th>\n      <th></th>\n      <th></th>\n      <th></th>\n      <th></th>\n      <th></th>\n    </tr>\n  </thead>\n  <tbody>\n    <tr>\n      <th>A Light in the Storm: The Civil War Diary of Amelia Martin, Fenwick Island, Delaware, 1861 (Dear America)</th>\n      <td>4</td>\n      <td>4</td>\n      <td>4</td>\n      <td>4</td>\n      <td>4</td>\n      <td>4</td>\n      <td>4</td>\n      <td>4</td>\n      <td>4</td>\n    </tr>\n    <tr>\n      <th>Always Have Popsicles</th>\n      <td>1</td>\n      <td>1</td>\n      <td>1</td>\n      <td>1</td>\n      <td>1</td>\n      <td>1</td>\n      <td>1</td>\n      <td>1</td>\n      <td>1</td>\n    </tr>\n    <tr>\n      <th>Apple Magic (The Collector's series)</th>\n      <td>1</td>\n      <td>1</td>\n      <td>1</td>\n      <td>1</td>\n      <td>1</td>\n      <td>1</td>\n      <td>1</td>\n      <td>1</td>\n      <td>1</td>\n    </tr>\n    <tr>\n      <th>Ask Lily (Young Women of Faith: Lily Series, Book 5)</th>\n      <td>1</td>\n      <td>1</td>\n      <td>1</td>\n      <td>1</td>\n      <td>1</td>\n      <td>1</td>\n      <td>1</td>\n      <td>1</td>\n      <td>1</td>\n    </tr>\n    <tr>\n      <th>Beyond IBM: Leadership Marketing and Finance for the 1990s</th>\n      <td>1</td>\n      <td>1</td>\n      <td>1</td>\n      <td>1</td>\n      <td>1</td>\n      <td>1</td>\n      <td>1</td>\n      <td>1</td>\n      <td>1</td>\n    </tr>\n    <tr>\n      <th>...</th>\n      <td>...</td>\n      <td>...</td>\n      <td>...</td>\n      <td>...</td>\n      <td>...</td>\n      <td>...</td>\n      <td>...</td>\n      <td>...</td>\n      <td>...</td>\n    </tr>\n    <tr>\n      <th>Ã?Â?lpiraten.</th>\n      <td>2</td>\n      <td>2</td>\n      <td>2</td>\n      <td>2</td>\n      <td>2</td>\n      <td>2</td>\n      <td>2</td>\n      <td>2</td>\n      <td>2</td>\n    </tr>\n    <tr>\n      <th>Ã?Â?rger mit Produkt X. Roman.</th>\n      <td>4</td>\n      <td>4</td>\n      <td>4</td>\n      <td>4</td>\n      <td>4</td>\n      <td>4</td>\n      <td>4</td>\n      <td>4</td>\n      <td>4</td>\n    </tr>\n    <tr>\n      <th>Ã?Â?sterlich leben.</th>\n      <td>1</td>\n      <td>1</td>\n      <td>1</td>\n      <td>1</td>\n      <td>1</td>\n      <td>1</td>\n      <td>1</td>\n      <td>1</td>\n      <td>1</td>\n    </tr>\n    <tr>\n      <th>Ã?Â?stlich der Berge.</th>\n      <td>3</td>\n      <td>3</td>\n      <td>3</td>\n      <td>3</td>\n      <td>3</td>\n      <td>3</td>\n      <td>3</td>\n      <td>3</td>\n      <td>3</td>\n    </tr>\n    <tr>\n      <th>Ã?Â?thique en toc</th>\n      <td>2</td>\n      <td>2</td>\n      <td>2</td>\n      <td>2</td>\n      <td>2</td>\n      <td>2</td>\n      <td>2</td>\n      <td>2</td>\n      <td>2</td>\n    </tr>\n  </tbody>\n</table>\n<p>241066 rows × 9 columns</p>\n</div>"
     },
     "execution_count": 21,
     "metadata": {},
     "output_type": "execute_result"
    }
   ],
   "source": [
    "merged_ratings.groupby('Book-Title').count()"
   ],
   "metadata": {
    "collapsed": false,
    "pycharm": {
     "name": "#%%\n"
    }
   }
  },
  {
   "cell_type": "markdown",
   "source": [
    "#### Popularity Based Recommender System"
   ],
   "metadata": {
    "collapsed": false,
    "pycharm": {
     "name": "#%% md\n"
    }
   }
  },
  {
   "cell_type": "code",
   "execution_count": 22,
   "outputs": [
    {
     "data": {
      "text/plain": "         User-ID        ISBN  \\\n0         276725  034545104X   \n1           2313  034545104X   \n2           6543  034545104X   \n3           8680  034545104X   \n4          10314  034545104X   \n...          ...         ...   \n1031124   276688  0517145553   \n1031125   276688  1575660792   \n1031126   276690  0590907301   \n1031127   276704  0679752714   \n1031128   276704  0806917695   \n\n                                                Book-Title  Book-Rating  \\\n0                                     Flesh Tones: A Novel            0   \n1                                     Flesh Tones: A Novel            5   \n2                                     Flesh Tones: A Novel            0   \n3                                     Flesh Tones: A Novel            5   \n4                                     Flesh Tones: A Novel            9   \n...                                                    ...          ...   \n1031124                                    Mostly Harmless            0   \n1031125                                        Gray Matter            7   \n1031126  Triplet Trouble and the Class Trip (Triplet Tr...            0   \n1031127  A Desert of Pure Feeling (Vintage Contemporaries)            0   \n1031128  Perplexing Lateral Thinking Puzzles: Scholasti...            5   \n\n             Book-Author  \n0             M. J. Rose  \n1             M. J. Rose  \n2             M. J. Rose  \n3             M. J. Rose  \n4             M. J. Rose  \n...                  ...  \n1031124    Douglas Adams  \n1031125  Shirley Kennett  \n1031126     Debbie Dadey  \n1031127   Judith Freeman  \n1031128      Paul Sloane  \n\n[1031129 rows x 5 columns]",
      "text/html": "<div>\n<style scoped>\n    .dataframe tbody tr th:only-of-type {\n        vertical-align: middle;\n    }\n\n    .dataframe tbody tr th {\n        vertical-align: top;\n    }\n\n    .dataframe thead th {\n        text-align: right;\n    }\n</style>\n<table border=\"1\" class=\"dataframe\">\n  <thead>\n    <tr style=\"text-align: right;\">\n      <th></th>\n      <th>User-ID</th>\n      <th>ISBN</th>\n      <th>Book-Title</th>\n      <th>Book-Rating</th>\n      <th>Book-Author</th>\n    </tr>\n  </thead>\n  <tbody>\n    <tr>\n      <th>0</th>\n      <td>276725</td>\n      <td>034545104X</td>\n      <td>Flesh Tones: A Novel</td>\n      <td>0</td>\n      <td>M. J. Rose</td>\n    </tr>\n    <tr>\n      <th>1</th>\n      <td>2313</td>\n      <td>034545104X</td>\n      <td>Flesh Tones: A Novel</td>\n      <td>5</td>\n      <td>M. J. Rose</td>\n    </tr>\n    <tr>\n      <th>2</th>\n      <td>6543</td>\n      <td>034545104X</td>\n      <td>Flesh Tones: A Novel</td>\n      <td>0</td>\n      <td>M. J. Rose</td>\n    </tr>\n    <tr>\n      <th>3</th>\n      <td>8680</td>\n      <td>034545104X</td>\n      <td>Flesh Tones: A Novel</td>\n      <td>5</td>\n      <td>M. J. Rose</td>\n    </tr>\n    <tr>\n      <th>4</th>\n      <td>10314</td>\n      <td>034545104X</td>\n      <td>Flesh Tones: A Novel</td>\n      <td>9</td>\n      <td>M. J. Rose</td>\n    </tr>\n    <tr>\n      <th>...</th>\n      <td>...</td>\n      <td>...</td>\n      <td>...</td>\n      <td>...</td>\n      <td>...</td>\n    </tr>\n    <tr>\n      <th>1031124</th>\n      <td>276688</td>\n      <td>0517145553</td>\n      <td>Mostly Harmless</td>\n      <td>0</td>\n      <td>Douglas Adams</td>\n    </tr>\n    <tr>\n      <th>1031125</th>\n      <td>276688</td>\n      <td>1575660792</td>\n      <td>Gray Matter</td>\n      <td>7</td>\n      <td>Shirley Kennett</td>\n    </tr>\n    <tr>\n      <th>1031126</th>\n      <td>276690</td>\n      <td>0590907301</td>\n      <td>Triplet Trouble and the Class Trip (Triplet Tr...</td>\n      <td>0</td>\n      <td>Debbie Dadey</td>\n    </tr>\n    <tr>\n      <th>1031127</th>\n      <td>276704</td>\n      <td>0679752714</td>\n      <td>A Desert of Pure Feeling (Vintage Contemporaries)</td>\n      <td>0</td>\n      <td>Judith Freeman</td>\n    </tr>\n    <tr>\n      <th>1031128</th>\n      <td>276704</td>\n      <td>0806917695</td>\n      <td>Perplexing Lateral Thinking Puzzles: Scholasti...</td>\n      <td>5</td>\n      <td>Paul Sloane</td>\n    </tr>\n  </tbody>\n</table>\n<p>1031129 rows × 5 columns</p>\n</div>"
     },
     "execution_count": 22,
     "metadata": {},
     "output_type": "execute_result"
    }
   ],
   "source": [
    "book_data = merged_ratings[['User-ID', 'ISBN', 'Book-Title', 'Book-Rating', 'Book-Author']]\n",
    "book_data"
   ],
   "metadata": {
    "collapsed": false,
    "pycharm": {
     "name": "#%%\n"
    }
   }
  },
  {
   "cell_type": "code",
   "execution_count": 23,
   "outputs": [],
   "source": [
    "def popularity(train,title,ids):\n",
    "    train_data_grouped = train.groupby([title])[ids].count().reset_index()  #user_id  #book title. Groupby book id and book title\n",
    "    train_data_grouped.rename(columns = {ids: 'score'},inplace=True)\n",
    "    train_data_sort = train_data_grouped.sort_values(['score',title], ascending = [0,1]) # sorting based on the number of times a book was read. score is the number of times a book was read\n",
    "    train_data_sort['Rank'] = train_data_sort['score'].rank(ascending=0, method='first') # create rank by sorting number of books being read\n",
    "    popularity_recommendations = train_data_sort.head(10) # print top 10\n",
    "    return popularity_recommendations"
   ],
   "metadata": {
    "collapsed": false,
    "pycharm": {
     "name": "#%%\n"
    }
   }
  },
  {
   "cell_type": "code",
   "execution_count": 24,
   "outputs": [
    {
     "data": {
      "text/plain": "                                             Book-Title  score  Rank\n234946                                      Wild Animus   2502   1.0\n196322                        The Lovely Bones: A Novel   1295   2.0\n183569                                The Da Vinci Code    898   3.0\n5303                                    A Painted House    838   4.0\n199233                       The Nanny Diaries: A Novel    828   5.0\n27922                             Bridget Jones's Diary    815   6.0\n206498                          The Secret Life of Bees    774   7.0\n52981   Divine Secrets of the Ya-Ya Sisterhood: A Novel    740   8.0\n204383              The Red Tent (Bestselling Backlist)    723   9.0\n14392                               Angels &amp; Demons    670  10.0",
      "text/html": "<div>\n<style scoped>\n    .dataframe tbody tr th:only-of-type {\n        vertical-align: middle;\n    }\n\n    .dataframe tbody tr th {\n        vertical-align: top;\n    }\n\n    .dataframe thead th {\n        text-align: right;\n    }\n</style>\n<table border=\"1\" class=\"dataframe\">\n  <thead>\n    <tr style=\"text-align: right;\">\n      <th></th>\n      <th>Book-Title</th>\n      <th>score</th>\n      <th>Rank</th>\n    </tr>\n  </thead>\n  <tbody>\n    <tr>\n      <th>234946</th>\n      <td>Wild Animus</td>\n      <td>2502</td>\n      <td>1.0</td>\n    </tr>\n    <tr>\n      <th>196322</th>\n      <td>The Lovely Bones: A Novel</td>\n      <td>1295</td>\n      <td>2.0</td>\n    </tr>\n    <tr>\n      <th>183569</th>\n      <td>The Da Vinci Code</td>\n      <td>898</td>\n      <td>3.0</td>\n    </tr>\n    <tr>\n      <th>5303</th>\n      <td>A Painted House</td>\n      <td>838</td>\n      <td>4.0</td>\n    </tr>\n    <tr>\n      <th>199233</th>\n      <td>The Nanny Diaries: A Novel</td>\n      <td>828</td>\n      <td>5.0</td>\n    </tr>\n    <tr>\n      <th>27922</th>\n      <td>Bridget Jones's Diary</td>\n      <td>815</td>\n      <td>6.0</td>\n    </tr>\n    <tr>\n      <th>206498</th>\n      <td>The Secret Life of Bees</td>\n      <td>774</td>\n      <td>7.0</td>\n    </tr>\n    <tr>\n      <th>52981</th>\n      <td>Divine Secrets of the Ya-Ya Sisterhood: A Novel</td>\n      <td>740</td>\n      <td>8.0</td>\n    </tr>\n    <tr>\n      <th>204383</th>\n      <td>The Red Tent (Bestselling Backlist)</td>\n      <td>723</td>\n      <td>9.0</td>\n    </tr>\n    <tr>\n      <th>14392</th>\n      <td>Angels &amp;amp; Demons</td>\n      <td>670</td>\n      <td>10.0</td>\n    </tr>\n  </tbody>\n</table>\n</div>"
     },
     "execution_count": 24,
     "metadata": {},
     "output_type": "execute_result"
    }
   ],
   "source": [
    "popularity(book_data, 'Book-Title', 'User-ID')"
   ],
   "metadata": {
    "collapsed": false,
    "pycharm": {
     "name": "#%%\n"
    }
   }
  },
  {
   "cell_type": "markdown",
   "source": [
    "###### <font color = 'orange'> Based on the popularity system, Wild Animus would be the most recommended/popular book because it was read 2502 times."
   ],
   "metadata": {
    "collapsed": false,
    "pycharm": {
     "name": "#%% md\n"
    }
   }
  },
  {
   "cell_type": "markdown",
   "source": [
    "#### Collaborative Recommender System"
   ],
   "metadata": {
    "collapsed": false,
    "pycharm": {
     "name": "#%% md\n"
    }
   }
  },
  {
   "cell_type": "code",
   "execution_count": 25,
   "outputs": [
    {
     "data": {
      "text/plain": "11676     13602\n198711     7550\n153662     6109\n98391      5891\n35859      5850\n          ...  \n116180        1\n116166        1\n116154        1\n116137        1\n276723        1\nName: User-ID, Length: 105283, dtype: int64"
     },
     "execution_count": 25,
     "metadata": {},
     "output_type": "execute_result"
    }
   ],
   "source": [
    "ratings['User-ID'].value_counts()"
   ],
   "metadata": {
    "collapsed": false,
    "pycharm": {
     "name": "#%%\n"
    }
   }
  },
  {
   "cell_type": "markdown",
   "source": [
    "###### <font color ='orange'> User 11676 has rated/reviewed 13602 books"
   ],
   "metadata": {
    "collapsed": false,
    "pycharm": {
     "name": "#%% md\n"
    }
   }
  },
  {
   "cell_type": "code",
   "execution_count": 26,
   "outputs": [
    {
     "data": {
      "text/plain": "(105283,)"
     },
     "execution_count": 26,
     "metadata": {},
     "output_type": "execute_result"
    }
   ],
   "source": [
    "ratings['User-ID'].unique().shape"
   ],
   "metadata": {
    "collapsed": false,
    "pycharm": {
     "name": "#%%\n"
    }
   }
  },
  {
   "cell_type": "markdown",
   "source": [
    "###### <font color ='orange'> 105283 users left a rating for a book but to get the most out of the collaborative system, it would be better to focus on users who have rated 200 books or more."
   ],
   "metadata": {
    "collapsed": false,
    "pycharm": {
     "name": "#%% md\n"
    }
   }
  },
  {
   "cell_type": "code",
   "execution_count": 27,
   "outputs": [],
   "source": [
    "x = ratings['User-ID'].value_counts() > 200"
   ],
   "metadata": {
    "collapsed": false,
    "pycharm": {
     "name": "#%%\n"
    }
   }
  },
  {
   "cell_type": "code",
   "execution_count": 28,
   "outputs": [
    {
     "data": {
      "text/plain": "(899,)"
     },
     "execution_count": 28,
     "metadata": {},
     "output_type": "execute_result"
    }
   ],
   "source": [
    "x[x].shape"
   ],
   "metadata": {
    "collapsed": false,
    "pycharm": {
     "name": "#%%\n"
    }
   }
  },
  {
   "cell_type": "markdown",
   "source": [
    "###### <font color ='orange'> 899 users have rated over 200 books."
   ],
   "metadata": {
    "collapsed": false,
    "pycharm": {
     "name": "#%% md\n"
    }
   }
  },
  {
   "cell_type": "code",
   "execution_count": 29,
   "outputs": [],
   "source": [
    "y = x[x].index"
   ],
   "metadata": {
    "collapsed": false,
    "pycharm": {
     "name": "#%%\n"
    }
   }
  },
  {
   "cell_type": "code",
   "execution_count": 30,
   "outputs": [
    {
     "data": {
      "text/plain": "Int64Index([ 11676, 198711, 153662,  98391,  35859, 212898, 278418,  76352,\n            110973, 235105,\n            ...\n            260183,  73681,  44296, 155916,   9856, 274808,  28634,  59727,\n            268622, 188951],\n           dtype='int64', length=899)"
     },
     "execution_count": 30,
     "metadata": {},
     "output_type": "execute_result"
    }
   ],
   "source": [
    "y"
   ],
   "metadata": {
    "collapsed": false,
    "pycharm": {
     "name": "#%%\n"
    }
   }
  },
  {
   "cell_type": "code",
   "execution_count": 31,
   "outputs": [],
   "source": [
    "ratings = ratings[ratings['User-ID'].isin(y)]"
   ],
   "metadata": {
    "collapsed": false,
    "pycharm": {
     "name": "#%%\n"
    }
   }
  },
  {
   "cell_type": "markdown",
   "source": [
    "###### <font color = 'orange'> Users who have rated more than 200 books are stored in the variable ratings."
   ],
   "metadata": {
    "collapsed": false,
    "pycharm": {
     "name": "#%% md\n"
    }
   }
  },
  {
   "cell_type": "code",
   "execution_count": 32,
   "outputs": [
    {
     "data": {
      "text/plain": "      User-ID        ISBN  Book-Rating\n1456   277427  002542730X           10\n1457   277427  0026217457            0\n1458   277427  003008685X            8\n1459   277427  0030615321            0\n1460   277427  0060002050            0",
      "text/html": "<div>\n<style scoped>\n    .dataframe tbody tr th:only-of-type {\n        vertical-align: middle;\n    }\n\n    .dataframe tbody tr th {\n        vertical-align: top;\n    }\n\n    .dataframe thead th {\n        text-align: right;\n    }\n</style>\n<table border=\"1\" class=\"dataframe\">\n  <thead>\n    <tr style=\"text-align: right;\">\n      <th></th>\n      <th>User-ID</th>\n      <th>ISBN</th>\n      <th>Book-Rating</th>\n    </tr>\n  </thead>\n  <tbody>\n    <tr>\n      <th>1456</th>\n      <td>277427</td>\n      <td>002542730X</td>\n      <td>10</td>\n    </tr>\n    <tr>\n      <th>1457</th>\n      <td>277427</td>\n      <td>0026217457</td>\n      <td>0</td>\n    </tr>\n    <tr>\n      <th>1458</th>\n      <td>277427</td>\n      <td>003008685X</td>\n      <td>8</td>\n    </tr>\n    <tr>\n      <th>1459</th>\n      <td>277427</td>\n      <td>0030615321</td>\n      <td>0</td>\n    </tr>\n    <tr>\n      <th>1460</th>\n      <td>277427</td>\n      <td>0060002050</td>\n      <td>0</td>\n    </tr>\n  </tbody>\n</table>\n</div>"
     },
     "execution_count": 32,
     "metadata": {},
     "output_type": "execute_result"
    }
   ],
   "source": [
    "ratings.head()"
   ],
   "metadata": {
    "collapsed": false,
    "pycharm": {
     "name": "#%%\n"
    }
   }
  },
  {
   "cell_type": "code",
   "execution_count": 33,
   "outputs": [
    {
     "data": {
      "text/plain": "(526356, 3)"
     },
     "execution_count": 33,
     "metadata": {},
     "output_type": "execute_result"
    }
   ],
   "source": [
    "ratings.shape"
   ],
   "metadata": {
    "collapsed": false,
    "pycharm": {
     "name": "#%%\n"
    }
   }
  },
  {
   "cell_type": "code",
   "execution_count": 34,
   "outputs": [
    {
     "data": {
      "text/plain": "   User-ID        ISBN  Book-Rating            Book-Title Book-Author  \\\n0   276725  034545104X            0  Flesh Tones: A Novel  M. J. Rose   \n1     2313  034545104X            5  Flesh Tones: A Novel  M. J. Rose   \n2     6543  034545104X            0  Flesh Tones: A Novel  M. J. Rose   \n3     8680  034545104X            5  Flesh Tones: A Novel  M. J. Rose   \n4    10314  034545104X            9  Flesh Tones: A Novel  M. J. Rose   \n\n  Year-Of-Publication         Publisher  \\\n0                2002  Ballantine Books   \n1                2002  Ballantine Books   \n2                2002  Ballantine Books   \n3                2002  Ballantine Books   \n4                2002  Ballantine Books   \n\n                                         Image-URL-S  \\\n0  http://images.amazon.com/images/P/034545104X.0...   \n1  http://images.amazon.com/images/P/034545104X.0...   \n2  http://images.amazon.com/images/P/034545104X.0...   \n3  http://images.amazon.com/images/P/034545104X.0...   \n4  http://images.amazon.com/images/P/034545104X.0...   \n\n                                         Image-URL-M  \\\n0  http://images.amazon.com/images/P/034545104X.0...   \n1  http://images.amazon.com/images/P/034545104X.0...   \n2  http://images.amazon.com/images/P/034545104X.0...   \n3  http://images.amazon.com/images/P/034545104X.0...   \n4  http://images.amazon.com/images/P/034545104X.0...   \n\n                                         Image-URL-L  \n0  http://images.amazon.com/images/P/034545104X.0...  \n1  http://images.amazon.com/images/P/034545104X.0...  \n2  http://images.amazon.com/images/P/034545104X.0...  \n3  http://images.amazon.com/images/P/034545104X.0...  \n4  http://images.amazon.com/images/P/034545104X.0...  ",
      "text/html": "<div>\n<style scoped>\n    .dataframe tbody tr th:only-of-type {\n        vertical-align: middle;\n    }\n\n    .dataframe tbody tr th {\n        vertical-align: top;\n    }\n\n    .dataframe thead th {\n        text-align: right;\n    }\n</style>\n<table border=\"1\" class=\"dataframe\">\n  <thead>\n    <tr style=\"text-align: right;\">\n      <th></th>\n      <th>User-ID</th>\n      <th>ISBN</th>\n      <th>Book-Rating</th>\n      <th>Book-Title</th>\n      <th>Book-Author</th>\n      <th>Year-Of-Publication</th>\n      <th>Publisher</th>\n      <th>Image-URL-S</th>\n      <th>Image-URL-M</th>\n      <th>Image-URL-L</th>\n    </tr>\n  </thead>\n  <tbody>\n    <tr>\n      <th>0</th>\n      <td>276725</td>\n      <td>034545104X</td>\n      <td>0</td>\n      <td>Flesh Tones: A Novel</td>\n      <td>M. J. Rose</td>\n      <td>2002</td>\n      <td>Ballantine Books</td>\n      <td>http://images.amazon.com/images/P/034545104X.0...</td>\n      <td>http://images.amazon.com/images/P/034545104X.0...</td>\n      <td>http://images.amazon.com/images/P/034545104X.0...</td>\n    </tr>\n    <tr>\n      <th>1</th>\n      <td>2313</td>\n      <td>034545104X</td>\n      <td>5</td>\n      <td>Flesh Tones: A Novel</td>\n      <td>M. J. Rose</td>\n      <td>2002</td>\n      <td>Ballantine Books</td>\n      <td>http://images.amazon.com/images/P/034545104X.0...</td>\n      <td>http://images.amazon.com/images/P/034545104X.0...</td>\n      <td>http://images.amazon.com/images/P/034545104X.0...</td>\n    </tr>\n    <tr>\n      <th>2</th>\n      <td>6543</td>\n      <td>034545104X</td>\n      <td>0</td>\n      <td>Flesh Tones: A Novel</td>\n      <td>M. J. Rose</td>\n      <td>2002</td>\n      <td>Ballantine Books</td>\n      <td>http://images.amazon.com/images/P/034545104X.0...</td>\n      <td>http://images.amazon.com/images/P/034545104X.0...</td>\n      <td>http://images.amazon.com/images/P/034545104X.0...</td>\n    </tr>\n    <tr>\n      <th>3</th>\n      <td>8680</td>\n      <td>034545104X</td>\n      <td>5</td>\n      <td>Flesh Tones: A Novel</td>\n      <td>M. J. Rose</td>\n      <td>2002</td>\n      <td>Ballantine Books</td>\n      <td>http://images.amazon.com/images/P/034545104X.0...</td>\n      <td>http://images.amazon.com/images/P/034545104X.0...</td>\n      <td>http://images.amazon.com/images/P/034545104X.0...</td>\n    </tr>\n    <tr>\n      <th>4</th>\n      <td>10314</td>\n      <td>034545104X</td>\n      <td>9</td>\n      <td>Flesh Tones: A Novel</td>\n      <td>M. J. Rose</td>\n      <td>2002</td>\n      <td>Ballantine Books</td>\n      <td>http://images.amazon.com/images/P/034545104X.0...</td>\n      <td>http://images.amazon.com/images/P/034545104X.0...</td>\n      <td>http://images.amazon.com/images/P/034545104X.0...</td>\n    </tr>\n  </tbody>\n</table>\n</div>"
     },
     "execution_count": 34,
     "metadata": {},
     "output_type": "execute_result"
    }
   ],
   "source": [
    "merged_ratings.head()"
   ],
   "metadata": {
    "collapsed": false,
    "pycharm": {
     "name": "#%%\n"
    }
   }
  },
  {
   "cell_type": "code",
   "execution_count": 35,
   "outputs": [],
   "source": [
    "merged_ratings = merged_ratings[['User-ID', 'ISBN', 'Book-Rating', 'Book-Title', 'Book-Author', 'Year-Of-Publication', 'Publisher', 'Image-URL-L']]"
   ],
   "metadata": {
    "collapsed": false,
    "pycharm": {
     "name": "#%%\n"
    }
   }
  },
  {
   "cell_type": "code",
   "execution_count": 36,
   "outputs": [
    {
     "data": {
      "text/plain": "(1031129, 8)"
     },
     "execution_count": 36,
     "metadata": {},
     "output_type": "execute_result"
    }
   ],
   "source": [
    "merged_ratings.shape"
   ],
   "metadata": {
    "collapsed": false,
    "pycharm": {
     "name": "#%%\n"
    }
   }
  },
  {
   "cell_type": "code",
   "execution_count": 37,
   "outputs": [
    {
     "data": {
      "text/plain": "                                               Book-Title  Book-Rating\n0        A Light in the Storm: The Civil War Diary of ...            4\n1                                   Always Have Popsicles            1\n2                    Apple Magic (The Collector's series)            1\n3        Ask Lily (Young Women of Faith: Lily Series, ...            1\n4        Beyond IBM: Leadership Marketing and Finance ...            1\n...                                                   ...          ...\n241061                                      Ã?Â?lpiraten.            2\n241062                     Ã?Â?rger mit Produkt X. Roman.            4\n241063                                Ã?Â?sterlich leben.            1\n241064                              Ã?Â?stlich der Berge.            3\n241065                                  Ã?Â?thique en toc            2\n\n[241066 rows x 2 columns]",
      "text/html": "<div>\n<style scoped>\n    .dataframe tbody tr th:only-of-type {\n        vertical-align: middle;\n    }\n\n    .dataframe tbody tr th {\n        vertical-align: top;\n    }\n\n    .dataframe thead th {\n        text-align: right;\n    }\n</style>\n<table border=\"1\" class=\"dataframe\">\n  <thead>\n    <tr style=\"text-align: right;\">\n      <th></th>\n      <th>Book-Title</th>\n      <th>Book-Rating</th>\n    </tr>\n  </thead>\n  <tbody>\n    <tr>\n      <th>0</th>\n      <td>A Light in the Storm: The Civil War Diary of ...</td>\n      <td>4</td>\n    </tr>\n    <tr>\n      <th>1</th>\n      <td>Always Have Popsicles</td>\n      <td>1</td>\n    </tr>\n    <tr>\n      <th>2</th>\n      <td>Apple Magic (The Collector's series)</td>\n      <td>1</td>\n    </tr>\n    <tr>\n      <th>3</th>\n      <td>Ask Lily (Young Women of Faith: Lily Series, ...</td>\n      <td>1</td>\n    </tr>\n    <tr>\n      <th>4</th>\n      <td>Beyond IBM: Leadership Marketing and Finance ...</td>\n      <td>1</td>\n    </tr>\n    <tr>\n      <th>...</th>\n      <td>...</td>\n      <td>...</td>\n    </tr>\n    <tr>\n      <th>241061</th>\n      <td>Ã?Â?lpiraten.</td>\n      <td>2</td>\n    </tr>\n    <tr>\n      <th>241062</th>\n      <td>Ã?Â?rger mit Produkt X. Roman.</td>\n      <td>4</td>\n    </tr>\n    <tr>\n      <th>241063</th>\n      <td>Ã?Â?sterlich leben.</td>\n      <td>1</td>\n    </tr>\n    <tr>\n      <th>241064</th>\n      <td>Ã?Â?stlich der Berge.</td>\n      <td>3</td>\n    </tr>\n    <tr>\n      <th>241065</th>\n      <td>Ã?Â?thique en toc</td>\n      <td>2</td>\n    </tr>\n  </tbody>\n</table>\n<p>241066 rows × 2 columns</p>\n</div>"
     },
     "execution_count": 37,
     "metadata": {},
     "output_type": "execute_result"
    }
   ],
   "source": [
    "num_of_ratings = merged_ratings.groupby('Book-Title')['Book-Rating'].count().reset_index()\n",
    "num_of_ratings\n",
    "#number of ratings for each book"
   ],
   "metadata": {
    "collapsed": false,
    "pycharm": {
     "name": "#%%\n"
    }
   }
  },
  {
   "cell_type": "markdown",
   "source": [
    "###### <font color = 'orange'> This list conveys the number of ratings a book received."
   ],
   "metadata": {
    "collapsed": false,
    "pycharm": {
     "name": "#%% md\n"
    }
   }
  },
  {
   "cell_type": "code",
   "execution_count": 38,
   "outputs": [],
   "source": [
    "num_of_ratings.rename(columns={'Book-Rating': 'num_of_ratings'}, inplace = True)"
   ],
   "metadata": {
    "collapsed": false,
    "pycharm": {
     "name": "#%%\n"
    }
   }
  },
  {
   "cell_type": "code",
   "execution_count": 39,
   "outputs": [
    {
     "data": {
      "text/plain": "                                               Book-Title  num_of_ratings\n0        A Light in the Storm: The Civil War Diary of ...               4\n1                                   Always Have Popsicles               1\n2                    Apple Magic (The Collector's series)               1\n3        Ask Lily (Young Women of Faith: Lily Series, ...               1\n4        Beyond IBM: Leadership Marketing and Finance ...               1\n...                                                   ...             ...\n241061                                      Ã?Â?lpiraten.               2\n241062                     Ã?Â?rger mit Produkt X. Roman.               4\n241063                                Ã?Â?sterlich leben.               1\n241064                              Ã?Â?stlich der Berge.               3\n241065                                  Ã?Â?thique en toc               2\n\n[241066 rows x 2 columns]",
      "text/html": "<div>\n<style scoped>\n    .dataframe tbody tr th:only-of-type {\n        vertical-align: middle;\n    }\n\n    .dataframe tbody tr th {\n        vertical-align: top;\n    }\n\n    .dataframe thead th {\n        text-align: right;\n    }\n</style>\n<table border=\"1\" class=\"dataframe\">\n  <thead>\n    <tr style=\"text-align: right;\">\n      <th></th>\n      <th>Book-Title</th>\n      <th>num_of_ratings</th>\n    </tr>\n  </thead>\n  <tbody>\n    <tr>\n      <th>0</th>\n      <td>A Light in the Storm: The Civil War Diary of ...</td>\n      <td>4</td>\n    </tr>\n    <tr>\n      <th>1</th>\n      <td>Always Have Popsicles</td>\n      <td>1</td>\n    </tr>\n    <tr>\n      <th>2</th>\n      <td>Apple Magic (The Collector's series)</td>\n      <td>1</td>\n    </tr>\n    <tr>\n      <th>3</th>\n      <td>Ask Lily (Young Women of Faith: Lily Series, ...</td>\n      <td>1</td>\n    </tr>\n    <tr>\n      <th>4</th>\n      <td>Beyond IBM: Leadership Marketing and Finance ...</td>\n      <td>1</td>\n    </tr>\n    <tr>\n      <th>...</th>\n      <td>...</td>\n      <td>...</td>\n    </tr>\n    <tr>\n      <th>241061</th>\n      <td>Ã?Â?lpiraten.</td>\n      <td>2</td>\n    </tr>\n    <tr>\n      <th>241062</th>\n      <td>Ã?Â?rger mit Produkt X. Roman.</td>\n      <td>4</td>\n    </tr>\n    <tr>\n      <th>241063</th>\n      <td>Ã?Â?sterlich leben.</td>\n      <td>1</td>\n    </tr>\n    <tr>\n      <th>241064</th>\n      <td>Ã?Â?stlich der Berge.</td>\n      <td>3</td>\n    </tr>\n    <tr>\n      <th>241065</th>\n      <td>Ã?Â?thique en toc</td>\n      <td>2</td>\n    </tr>\n  </tbody>\n</table>\n<p>241066 rows × 2 columns</p>\n</div>"
     },
     "execution_count": 39,
     "metadata": {},
     "output_type": "execute_result"
    }
   ],
   "source": [
    "num_of_ratings"
   ],
   "metadata": {
    "collapsed": false,
    "pycharm": {
     "name": "#%%\n"
    }
   }
  },
  {
   "cell_type": "code",
   "execution_count": 40,
   "outputs": [],
   "source": [
    "final = merged_ratings.merge(num_of_ratings, on = 'Book-Title')"
   ],
   "metadata": {
    "collapsed": false,
    "pycharm": {
     "name": "#%%\n"
    }
   }
  },
  {
   "cell_type": "code",
   "execution_count": 41,
   "outputs": [
    {
     "data": {
      "text/plain": "(1031129, 9)"
     },
     "execution_count": 41,
     "metadata": {},
     "output_type": "execute_result"
    }
   ],
   "source": [
    "final.shape"
   ],
   "metadata": {
    "collapsed": false,
    "pycharm": {
     "name": "#%%\n"
    }
   }
  },
  {
   "cell_type": "code",
   "execution_count": 42,
   "outputs": [],
   "source": [
    "final = final[final['num_of_ratings']>= 50]"
   ],
   "metadata": {
    "collapsed": false,
    "pycharm": {
     "name": "#%%\n"
    }
   }
  },
  {
   "cell_type": "code",
   "execution_count": 43,
   "outputs": [
    {
     "data": {
      "text/plain": "        User-ID        ISBN  Book-Rating            Book-Title  \\\n0        276725  034545104X            0  Flesh Tones: A Novel   \n1          2313  034545104X            5  Flesh Tones: A Novel   \n2          6543  034545104X            0  Flesh Tones: A Novel   \n3          8680  034545104X            5  Flesh Tones: A Novel   \n4         10314  034545104X            9  Flesh Tones: A Novel   \n...         ...         ...          ...                   ...   \n730559   227447  0061092096            0  Love in Another Town   \n730560   231210  0061092096            0  Love in Another Town   \n730561   238781  0061092096            5  Love in Another Town   \n730562   244349  0061092096            0  Love in Another Town   \n730563   258352  0061092096            0  Love in Another Town   \n\n                    Book-Author Year-Of-Publication         Publisher  \\\n0                    M. J. Rose                2002  Ballantine Books   \n1                    M. J. Rose                2002  Ballantine Books   \n2                    M. J. Rose                2002  Ballantine Books   \n3                    M. J. Rose                2002  Ballantine Books   \n4                    M. J. Rose                2002  Ballantine Books   \n...                         ...                 ...               ...   \n730559  Barbara Taylor Bradford                1996       HarperTorch   \n730560  Barbara Taylor Bradford                1996       HarperTorch   \n730561  Barbara Taylor Bradford                1996       HarperTorch   \n730562  Barbara Taylor Bradford                1996       HarperTorch   \n730563  Barbara Taylor Bradford                1996       HarperTorch   \n\n                                              Image-URL-L  num_of_ratings  \n0       http://images.amazon.com/images/P/034545104X.0...              60  \n1       http://images.amazon.com/images/P/034545104X.0...              60  \n2       http://images.amazon.com/images/P/034545104X.0...              60  \n3       http://images.amazon.com/images/P/034545104X.0...              60  \n4       http://images.amazon.com/images/P/034545104X.0...              60  \n...                                                   ...             ...  \n730559  http://images.amazon.com/images/P/0061092096.0...              68  \n730560  http://images.amazon.com/images/P/0061092096.0...              68  \n730561  http://images.amazon.com/images/P/0061092096.0...              68  \n730562  http://images.amazon.com/images/P/0061092096.0...              68  \n730563  http://images.amazon.com/images/P/0061092096.0...              68  \n\n[288740 rows x 9 columns]",
      "text/html": "<div>\n<style scoped>\n    .dataframe tbody tr th:only-of-type {\n        vertical-align: middle;\n    }\n\n    .dataframe tbody tr th {\n        vertical-align: top;\n    }\n\n    .dataframe thead th {\n        text-align: right;\n    }\n</style>\n<table border=\"1\" class=\"dataframe\">\n  <thead>\n    <tr style=\"text-align: right;\">\n      <th></th>\n      <th>User-ID</th>\n      <th>ISBN</th>\n      <th>Book-Rating</th>\n      <th>Book-Title</th>\n      <th>Book-Author</th>\n      <th>Year-Of-Publication</th>\n      <th>Publisher</th>\n      <th>Image-URL-L</th>\n      <th>num_of_ratings</th>\n    </tr>\n  </thead>\n  <tbody>\n    <tr>\n      <th>0</th>\n      <td>276725</td>\n      <td>034545104X</td>\n      <td>0</td>\n      <td>Flesh Tones: A Novel</td>\n      <td>M. J. Rose</td>\n      <td>2002</td>\n      <td>Ballantine Books</td>\n      <td>http://images.amazon.com/images/P/034545104X.0...</td>\n      <td>60</td>\n    </tr>\n    <tr>\n      <th>1</th>\n      <td>2313</td>\n      <td>034545104X</td>\n      <td>5</td>\n      <td>Flesh Tones: A Novel</td>\n      <td>M. J. Rose</td>\n      <td>2002</td>\n      <td>Ballantine Books</td>\n      <td>http://images.amazon.com/images/P/034545104X.0...</td>\n      <td>60</td>\n    </tr>\n    <tr>\n      <th>2</th>\n      <td>6543</td>\n      <td>034545104X</td>\n      <td>0</td>\n      <td>Flesh Tones: A Novel</td>\n      <td>M. J. Rose</td>\n      <td>2002</td>\n      <td>Ballantine Books</td>\n      <td>http://images.amazon.com/images/P/034545104X.0...</td>\n      <td>60</td>\n    </tr>\n    <tr>\n      <th>3</th>\n      <td>8680</td>\n      <td>034545104X</td>\n      <td>5</td>\n      <td>Flesh Tones: A Novel</td>\n      <td>M. J. Rose</td>\n      <td>2002</td>\n      <td>Ballantine Books</td>\n      <td>http://images.amazon.com/images/P/034545104X.0...</td>\n      <td>60</td>\n    </tr>\n    <tr>\n      <th>4</th>\n      <td>10314</td>\n      <td>034545104X</td>\n      <td>9</td>\n      <td>Flesh Tones: A Novel</td>\n      <td>M. J. Rose</td>\n      <td>2002</td>\n      <td>Ballantine Books</td>\n      <td>http://images.amazon.com/images/P/034545104X.0...</td>\n      <td>60</td>\n    </tr>\n    <tr>\n      <th>...</th>\n      <td>...</td>\n      <td>...</td>\n      <td>...</td>\n      <td>...</td>\n      <td>...</td>\n      <td>...</td>\n      <td>...</td>\n      <td>...</td>\n      <td>...</td>\n    </tr>\n    <tr>\n      <th>730559</th>\n      <td>227447</td>\n      <td>0061092096</td>\n      <td>0</td>\n      <td>Love in Another Town</td>\n      <td>Barbara Taylor Bradford</td>\n      <td>1996</td>\n      <td>HarperTorch</td>\n      <td>http://images.amazon.com/images/P/0061092096.0...</td>\n      <td>68</td>\n    </tr>\n    <tr>\n      <th>730560</th>\n      <td>231210</td>\n      <td>0061092096</td>\n      <td>0</td>\n      <td>Love in Another Town</td>\n      <td>Barbara Taylor Bradford</td>\n      <td>1996</td>\n      <td>HarperTorch</td>\n      <td>http://images.amazon.com/images/P/0061092096.0...</td>\n      <td>68</td>\n    </tr>\n    <tr>\n      <th>730561</th>\n      <td>238781</td>\n      <td>0061092096</td>\n      <td>5</td>\n      <td>Love in Another Town</td>\n      <td>Barbara Taylor Bradford</td>\n      <td>1996</td>\n      <td>HarperTorch</td>\n      <td>http://images.amazon.com/images/P/0061092096.0...</td>\n      <td>68</td>\n    </tr>\n    <tr>\n      <th>730562</th>\n      <td>244349</td>\n      <td>0061092096</td>\n      <td>0</td>\n      <td>Love in Another Town</td>\n      <td>Barbara Taylor Bradford</td>\n      <td>1996</td>\n      <td>HarperTorch</td>\n      <td>http://images.amazon.com/images/P/0061092096.0...</td>\n      <td>68</td>\n    </tr>\n    <tr>\n      <th>730563</th>\n      <td>258352</td>\n      <td>0061092096</td>\n      <td>0</td>\n      <td>Love in Another Town</td>\n      <td>Barbara Taylor Bradford</td>\n      <td>1996</td>\n      <td>HarperTorch</td>\n      <td>http://images.amazon.com/images/P/0061092096.0...</td>\n      <td>68</td>\n    </tr>\n  </tbody>\n</table>\n<p>288740 rows × 9 columns</p>\n</div>"
     },
     "execution_count": 43,
     "metadata": {},
     "output_type": "execute_result"
    }
   ],
   "source": [
    "final"
   ],
   "metadata": {
    "collapsed": false,
    "pycharm": {
     "name": "#%%\n"
    }
   }
  },
  {
   "cell_type": "code",
   "execution_count": 44,
   "outputs": [
    {
     "data": {
      "text/plain": "(288740, 9)"
     },
     "execution_count": 44,
     "metadata": {},
     "output_type": "execute_result"
    }
   ],
   "source": [
    "final.shape"
   ],
   "metadata": {
    "collapsed": false,
    "pycharm": {
     "name": "#%%\n"
    }
   }
  },
  {
   "cell_type": "code",
   "execution_count": 45,
   "outputs": [],
   "source": [
    "final.drop_duplicates(['User-ID', 'Book-Title'], inplace = True)"
   ],
   "metadata": {
    "collapsed": false,
    "pycharm": {
     "name": "#%%\n"
    }
   }
  },
  {
   "cell_type": "code",
   "execution_count": 46,
   "outputs": [
    {
     "data": {
      "text/plain": "(285518, 9)"
     },
     "execution_count": 46,
     "metadata": {},
     "output_type": "execute_result"
    }
   ],
   "source": [
    "final.shape"
   ],
   "metadata": {
    "collapsed": false,
    "pycharm": {
     "name": "#%%\n"
    }
   }
  },
  {
   "cell_type": "code",
   "execution_count": 47,
   "outputs": [],
   "source": [
    "# Visualize the top ten books with the most ratings\n",
    "#final['num_of ratings'].value_counts(ascending = False).head(10)\n",
    "graph = final.groupby('Book-Title')['num_of_ratings'].count().sort_values(ascending = False).head(10)"
   ],
   "metadata": {
    "collapsed": false,
    "pycharm": {
     "name": "#%%\n"
    }
   }
  },
  {
   "cell_type": "code",
   "execution_count": 48,
   "outputs": [
    {
     "data": {
      "text/plain": "Text(0.5, 1.0, 'Books with the highest number of ratings')"
     },
     "execution_count": 48,
     "metadata": {},
     "output_type": "execute_result"
    },
    {
     "data": {
      "text/plain": "<Figure size 1200x700 with 1 Axes>",
      "image/png": "[encoded data removed]"
     },
     "metadata": {},
     "output_type": "display_data"
    }
   ],
   "source": [
    "plt.figure(figsize=(12, 7))\n",
    "graph.plot(kind = 'barh')\n",
    "plt.title('Books with the highest number of ratings')"
   ],
   "metadata": {
    "collapsed": false,
    "pycharm": {
     "name": "#%%\n"
    }
   }
  },
  {
   "cell_type": "code",
   "execution_count": 49,
   "outputs": [],
   "source": [
    "book_pivtable = final.pivot_table(index=['Book-Title'], columns=['User-ID'], values=['Book-Rating'])"
   ],
   "metadata": {
    "collapsed": false,
    "pycharm": {
     "name": "#%%\n"
    }
   }
  },
  {
   "cell_type": "code",
   "execution_count": 50,
   "outputs": [
    {
     "data": {
      "text/plain": "                                                   Book-Rating                \\\nUser-ID                                                 8      9      14       \nBook-Title                                                                     \n10 Lb. Penalty                                             NaN    NaN    NaN   \n16 Lighthouse Road                                         NaN    NaN    NaN   \n1984                                                       NaN    NaN    NaN   \n1st to Die: A Novel                                        NaN    NaN    NaN   \n2010: Odyssey Two                                          NaN    NaN    NaN   \n...                                                        ...    ...    ...   \nZen and the Art of Motorcycle Maintenance: An I...         NaN    NaN    NaN   \nZoya                                                       NaN    NaN    NaN   \n\\O\\\" Is for Outlaw\"                                        NaN    NaN    NaN   \n\\Surely You're Joking, Mr. Feynman!\\\": Adventur...         NaN    NaN    NaN   \nstardust                                                   NaN    NaN    NaN   \n\n                                                                         \\\nUser-ID                                            16     17     19       \nBook-Title                                                                \n10 Lb. Penalty                                        NaN    NaN    NaN   \n16 Lighthouse Road                                    NaN    NaN    NaN   \n1984                                                  NaN    NaN    NaN   \n1st to Die: A Novel                                   NaN    NaN    NaN   \n2010: Odyssey Two                                     NaN    NaN    NaN   \n...                                                   ...    ...    ...   \nZen and the Art of Motorcycle Maintenance: An I...    NaN    NaN    NaN   \nZoya                                                  NaN    NaN    NaN   \n\\O\\\" Is for Outlaw\"                                   NaN    NaN    NaN   \n\\Surely You're Joking, Mr. Feynman!\\\": Adventur...    NaN    NaN    NaN   \nstardust                                              NaN    NaN    NaN   \n\n                                                                         \\\nUser-ID                                            23     26     32       \nBook-Title                                                                \n10 Lb. Penalty                                        NaN    NaN    NaN   \n16 Lighthouse Road                                    NaN    NaN    NaN   \n1984                                                  NaN    NaN    NaN   \n1st to Die: A Novel                                   NaN    NaN    NaN   \n2010: Odyssey Two                                     NaN    NaN    NaN   \n...                                                   ...    ...    ...   \nZen and the Art of Motorcycle Maintenance: An I...    NaN    NaN    NaN   \nZoya                                                  NaN    NaN    NaN   \n\\O\\\" Is for Outlaw\"                                   NaN    NaN    NaN   \n\\Surely You're Joking, Mr. Feynman!\\\": Adventur...    NaN    NaN    NaN   \nstardust                                              NaN    NaN    NaN   \n\n                                                           ...                \\\nUser-ID                                            39      ... 278820 278824   \nBook-Title                                                 ...                 \n10 Lb. Penalty                                        NaN  ...    NaN    NaN   \n16 Lighthouse Road                                    NaN  ...    NaN    NaN   \n1984                                                  NaN  ...    NaN    NaN   \n1st to Die: A Novel                                   NaN  ...    NaN    NaN   \n2010: Odyssey Two                                     NaN  ...    NaN    NaN   \n...                                                   ...  ...    ...    ...   \nZen and the Art of Motorcycle Maintenance: An I...    NaN  ...    NaN    NaN   \nZoya                                                  NaN  ...    NaN    NaN   \n\\O\\\" Is for Outlaw\"                                   NaN  ...    NaN    NaN   \n\\Surely You're Joking, Mr. Feynman!\\\": Adventur...    NaN  ...    NaN    NaN   \nstardust                                              NaN  ...    NaN    NaN   \n\n                                                                         \\\nUser-ID                                            278828 278832 278836   \nBook-Title                                                                \n10 Lb. Penalty                                        NaN    NaN    NaN   \n16 Lighthouse Road                                    NaN    NaN    NaN   \n1984                                                  NaN    NaN    NaN   \n1st to Die: A Novel                                   NaN    NaN    NaN   \n2010: Odyssey Two                                     NaN    NaN    NaN   \n...                                                   ...    ...    ...   \nZen and the Art of Motorcycle Maintenance: An I...    NaN    NaN    NaN   \nZoya                                                  NaN    NaN    NaN   \n\\O\\\" Is for Outlaw\"                                   NaN    NaN    NaN   \n\\Surely You're Joking, Mr. Feynman!\\\": Adventur...    NaN    NaN    NaN   \nstardust                                              NaN    NaN    NaN   \n\n                                                                         \\\nUser-ID                                            278843 278844 278846   \nBook-Title                                                                \n10 Lb. Penalty                                        NaN    NaN    NaN   \n16 Lighthouse Road                                    NaN    NaN    NaN   \n1984                                                  NaN    NaN    NaN   \n1st to Die: A Novel                                   NaN    NaN    NaN   \n2010: Odyssey Two                                     NaN    NaN    NaN   \n...                                                   ...    ...    ...   \nZen and the Art of Motorcycle Maintenance: An I...    NaN    NaN    NaN   \nZoya                                                  NaN    NaN    NaN   \n\\O\\\" Is for Outlaw\"                                   NaN    NaN    NaN   \n\\Surely You're Joking, Mr. Feynman!\\\": Adventur...    NaN    NaN    NaN   \nstardust                                              NaN    NaN    NaN   \n\n                                                                  \nUser-ID                                            278851 278854  \nBook-Title                                                        \n10 Lb. Penalty                                        NaN    NaN  \n16 Lighthouse Road                                    NaN    NaN  \n1984                                                  NaN    NaN  \n1st to Die: A Novel                                   NaN    NaN  \n2010: Odyssey Two                                     NaN    NaN  \n...                                                   ...    ...  \nZen and the Art of Motorcycle Maintenance: An I...    NaN    NaN  \nZoya                                                  NaN    NaN  \n\\O\\\" Is for Outlaw\"                                   NaN    NaN  \n\\Surely You're Joking, Mr. Feynman!\\\": Adventur...    NaN    NaN  \nstardust                                              NaN    NaN  \n\n[2444 rows x 47994 columns]",
      "text/html": "<div>\n<style scoped>\n    .dataframe tbody tr th:only-of-type {\n        vertical-align: middle;\n    }\n\n    .dataframe tbody tr th {\n        vertical-align: top;\n    }\n\n    .dataframe thead tr th {\n        text-align: left;\n    }\n\n    .dataframe thead tr:last-of-type th {\n        text-align: right;\n    }\n</style>\n<table border=\"1\" class=\"dataframe\">\n  <thead>\n    <tr>\n      <th></th>\n      <th colspan=\"21\" halign=\"left\">Book-Rating</th>\n    </tr>\n    <tr>\n      <th>User-ID</th>\n      <th>8</th>\n      <th>9</th>\n      <th>14</th>\n      <th>16</th>\n      <th>17</th>\n      <th>19</th>\n      <th>23</th>\n      <th>26</th>\n      <th>32</th>\n      <th>39</th>\n      <th>...</th>\n      <th>278820</th>\n      <th>278824</th>\n      <th>278828</th>\n      <th>278832</th>\n      <th>278836</th>\n      <th>278843</th>\n      <th>278844</th>\n      <th>278846</th>\n      <th>278851</th>\n      <th>278854</th>\n    </tr>\n    <tr>\n      <th>Book-Title</th>\n      <th></th>\n      <th></th>\n      <th></th>\n      <th></th>\n      <th></th>\n      <th></th>\n      <th></th>\n      <th></th>\n      <th></th>\n      <th></th>\n      <th></th>\n      <th></th>\n      <th></th>\n      <th></th>\n      <th></th>\n      <th></th>\n      <th></th>\n      <th></th>\n      <th></th>\n      <th></th>\n      <th></th>\n    </tr>\n  </thead>\n  <tbody>\n    <tr>\n      <th>10 Lb. Penalty</th>\n      <td>NaN</td>\n      <td>NaN</td>\n      <td>NaN</td>\n      <td>NaN</td>\n      <td>NaN</td>\n      <td>NaN</td>\n      <td>NaN</td>\n      <td>NaN</td>\n      <td>NaN</td>\n      <td>NaN</td>\n      <td>...</td>\n      <td>NaN</td>\n      <td>NaN</td>\n      <td>NaN</td>\n      <td>NaN</td>\n      <td>NaN</td>\n      <td>NaN</td>\n      <td>NaN</td>\n      <td>NaN</td>\n      <td>NaN</td>\n      <td>NaN</td>\n    </tr>\n    <tr>\n      <th>16 Lighthouse Road</th>\n      <td>NaN</td>\n      <td>NaN</td>\n      <td>NaN</td>\n      <td>NaN</td>\n      <td>NaN</td>\n      <td>NaN</td>\n      <td>NaN</td>\n      <td>NaN</td>\n      <td>NaN</td>\n      <td>NaN</td>\n      <td>...</td>\n      <td>NaN</td>\n      <td>NaN</td>\n      <td>NaN</td>\n      <td>NaN</td>\n      <td>NaN</td>\n      <td>NaN</td>\n      <td>NaN</td>\n      <td>NaN</td>\n      <td>NaN</td>\n      <td>NaN</td>\n    </tr>\n    <tr>\n      <th>1984</th>\n      <td>NaN</td>\n      <td>NaN</td>\n      <td>NaN</td>\n      <td>NaN</td>\n      <td>NaN</td>\n      <td>NaN</td>\n      <td>NaN</td>\n      <td>NaN</td>\n      <td>NaN</td>\n      <td>NaN</td>\n      <td>...</td>\n      <td>NaN</td>\n      <td>NaN</td>\n      <td>NaN</td>\n      <td>NaN</td>\n      <td>NaN</td>\n      <td>NaN</td>\n      <td>NaN</td>\n      <td>NaN</td>\n      <td>NaN</td>\n      <td>NaN</td>\n    </tr>\n    <tr>\n      <th>1st to Die: A Novel</th>\n      <td>NaN</td>\n      <td>NaN</td>\n      <td>NaN</td>\n      <td>NaN</td>\n      <td>NaN</td>\n      <td>NaN</td>\n      <td>NaN</td>\n      <td>NaN</td>\n      <td>NaN</td>\n      <td>NaN</td>\n      <td>...</td>\n      <td>NaN</td>\n      <td>NaN</td>\n      <td>NaN</td>\n      <td>NaN</td>\n      <td>NaN</td>\n      <td>NaN</td>\n      <td>NaN</td>\n      <td>NaN</td>\n      <td>NaN</td>\n      <td>NaN</td>\n    </tr>\n    <tr>\n      <th>2010: Odyssey Two</th>\n      <td>NaN</td>\n      <td>NaN</td>\n      <td>NaN</td>\n      <td>NaN</td>\n      <td>NaN</td>\n      <td>NaN</td>\n      <td>NaN</td>\n      <td>NaN</td>\n      <td>NaN</td>\n      <td>NaN</td>\n      <td>...</td>\n      <td>NaN</td>\n      <td>NaN</td>\n      <td>NaN</td>\n      <td>NaN</td>\n      <td>NaN</td>\n      <td>NaN</td>\n      <td>NaN</td>\n      <td>NaN</td>\n      <td>NaN</td>\n      <td>NaN</td>\n    </tr>\n    <tr>\n      <th>...</th>\n      <td>...</td>\n      <td>...</td>\n      <td>...</td>\n      <td>...</td>\n      <td>...</td>\n      <td>...</td>\n      <td>...</td>\n      <td>...</td>\n      <td>...</td>\n      <td>...</td>\n      <td>...</td>\n      <td>...</td>\n      <td>...</td>\n      <td>...</td>\n      <td>...</td>\n      <td>...</td>\n      <td>...</td>\n      <td>...</td>\n      <td>...</td>\n      <td>...</td>\n      <td>...</td>\n    </tr>\n    <tr>\n      <th>Zen and the Art of Motorcycle Maintenance: An Inquiry into Values</th>\n      <td>NaN</td>\n      <td>NaN</td>\n      <td>NaN</td>\n      <td>NaN</td>\n      <td>NaN</td>\n      <td>NaN</td>\n      <td>NaN</td>\n      <td>NaN</td>\n      <td>NaN</td>\n      <td>NaN</td>\n      <td>...</td>\n      <td>NaN</td>\n      <td>NaN</td>\n      <td>NaN</td>\n      <td>NaN</td>\n      <td>NaN</td>\n      <td>NaN</td>\n      <td>NaN</td>\n      <td>NaN</td>\n      <td>NaN</td>\n      <td>NaN</td>\n    </tr>\n    <tr>\n      <th>Zoya</th>\n      <td>NaN</td>\n      <td>NaN</td>\n      <td>NaN</td>\n      <td>NaN</td>\n      <td>NaN</td>\n      <td>NaN</td>\n      <td>NaN</td>\n      <td>NaN</td>\n      <td>NaN</td>\n      <td>NaN</td>\n      <td>...</td>\n      <td>NaN</td>\n      <td>NaN</td>\n      <td>NaN</td>\n      <td>NaN</td>\n      <td>NaN</td>\n      <td>NaN</td>\n      <td>NaN</td>\n      <td>NaN</td>\n      <td>NaN</td>\n      <td>NaN</td>\n    </tr>\n    <tr>\n      <th>\\O\\\" Is for Outlaw\"</th>\n      <td>NaN</td>\n      <td>NaN</td>\n      <td>NaN</td>\n      <td>NaN</td>\n      <td>NaN</td>\n      <td>NaN</td>\n      <td>NaN</td>\n      <td>NaN</td>\n      <td>NaN</td>\n      <td>NaN</td>\n      <td>...</td>\n      <td>NaN</td>\n      <td>NaN</td>\n      <td>NaN</td>\n      <td>NaN</td>\n      <td>NaN</td>\n      <td>NaN</td>\n      <td>NaN</td>\n      <td>NaN</td>\n      <td>NaN</td>\n      <td>NaN</td>\n    </tr>\n    <tr>\n      <th>\\Surely You're Joking, Mr. Feynman!\\\": Adventures of a Curious Character\"</th>\n      <td>NaN</td>\n      <td>NaN</td>\n      <td>NaN</td>\n      <td>NaN</td>\n      <td>NaN</td>\n      <td>NaN</td>\n      <td>NaN</td>\n      <td>NaN</td>\n      <td>NaN</td>\n      <td>NaN</td>\n      <td>...</td>\n      <td>NaN</td>\n      <td>NaN</td>\n      <td>NaN</td>\n      <td>NaN</td>\n      <td>NaN</td>\n      <td>NaN</td>\n      <td>NaN</td>\n      <td>NaN</td>\n      <td>NaN</td>\n      <td>NaN</td>\n    </tr>\n    <tr>\n      <th>stardust</th>\n      <td>NaN</td>\n      <td>NaN</td>\n      <td>NaN</td>\n      <td>NaN</td>\n      <td>NaN</td>\n      <td>NaN</td>\n      <td>NaN</td>\n      <td>NaN</td>\n      <td>NaN</td>\n      <td>NaN</td>\n      <td>...</td>\n      <td>NaN</td>\n      <td>NaN</td>\n      <td>NaN</td>\n      <td>NaN</td>\n      <td>NaN</td>\n      <td>NaN</td>\n      <td>NaN</td>\n      <td>NaN</td>\n      <td>NaN</td>\n      <td>NaN</td>\n    </tr>\n  </tbody>\n</table>\n<p>2444 rows × 47994 columns</p>\n</div>"
     },
     "execution_count": 50,
     "metadata": {},
     "output_type": "execute_result"
    }
   ],
   "source": [
    "book_pivtable"
   ],
   "metadata": {
    "collapsed": false,
    "pycharm": {
     "name": "#%%\n"
    }
   }
  },
  {
   "cell_type": "code",
   "execution_count": 51,
   "outputs": [],
   "source": [
    "book_pivtable.fillna(0, inplace = True)"
   ],
   "metadata": {
    "collapsed": false,
    "pycharm": {
     "name": "#%%\n"
    }
   }
  },
  {
   "cell_type": "code",
   "execution_count": 52,
   "outputs": [
    {
     "data": {
      "text/plain": "                                                   Book-Rating                \\\nUser-ID                                                 8      9      14       \nBook-Title                                                                     \n10 Lb. Penalty                                             0.0    0.0    0.0   \n16 Lighthouse Road                                         0.0    0.0    0.0   \n1984                                                       0.0    0.0    0.0   \n1st to Die: A Novel                                        0.0    0.0    0.0   \n2010: Odyssey Two                                          0.0    0.0    0.0   \n...                                                        ...    ...    ...   \nZen and the Art of Motorcycle Maintenance: An I...         0.0    0.0    0.0   \nZoya                                                       0.0    0.0    0.0   \n\\O\\\" Is for Outlaw\"                                        0.0    0.0    0.0   \n\\Surely You're Joking, Mr. Feynman!\\\": Adventur...         0.0    0.0    0.0   \nstardust                                                   0.0    0.0    0.0   \n\n                                                                         \\\nUser-ID                                            16     17     19       \nBook-Title                                                                \n10 Lb. Penalty                                        0.0    0.0    0.0   \n16 Lighthouse Road                                    0.0    0.0    0.0   \n1984                                                  0.0    0.0    0.0   \n1st to Die: A Novel                                   0.0    0.0    0.0   \n2010: Odyssey Two                                     0.0    0.0    0.0   \n...                                                   ...    ...    ...   \nZen and the Art of Motorcycle Maintenance: An I...    0.0    0.0    0.0   \nZoya                                                  0.0    0.0    0.0   \n\\O\\\" Is for Outlaw\"                                   0.0    0.0    0.0   \n\\Surely You're Joking, Mr. Feynman!\\\": Adventur...    0.0    0.0    0.0   \nstardust                                              0.0    0.0    0.0   \n\n                                                                         \\\nUser-ID                                            23     26     32       \nBook-Title                                                                \n10 Lb. Penalty                                        0.0    0.0    0.0   \n16 Lighthouse Road                                    0.0    0.0    0.0   \n1984                                                  0.0    0.0    0.0   \n1st to Die: A Novel                                   0.0    0.0    0.0   \n2010: Odyssey Two                                     0.0    0.0    0.0   \n...                                                   ...    ...    ...   \nZen and the Art of Motorcycle Maintenance: An I...    0.0    0.0    0.0   \nZoya                                                  0.0    0.0    0.0   \n\\O\\\" Is for Outlaw\"                                   0.0    0.0    0.0   \n\\Surely You're Joking, Mr. Feynman!\\\": Adventur...    0.0    0.0    0.0   \nstardust                                              0.0    0.0    0.0   \n\n                                                           ...                \\\nUser-ID                                            39      ... 278820 278824   \nBook-Title                                                 ...                 \n10 Lb. Penalty                                        0.0  ...    0.0    0.0   \n16 Lighthouse Road                                    0.0  ...    0.0    0.0   \n1984                                                  0.0  ...    0.0    0.0   \n1st to Die: A Novel                                   0.0  ...    0.0    0.0   \n2010: Odyssey Two                                     0.0  ...    0.0    0.0   \n...                                                   ...  ...    ...    ...   \nZen and the Art of Motorcycle Maintenance: An I...    0.0  ...    0.0    0.0   \nZoya                                                  0.0  ...    0.0    0.0   \n\\O\\\" Is for Outlaw\"                                   0.0  ...    0.0    0.0   \n\\Surely You're Joking, Mr. Feynman!\\\": Adventur...    0.0  ...    0.0    0.0   \nstardust                                              0.0  ...    0.0    0.0   \n\n                                                                         \\\nUser-ID                                            278828 278832 278836   \nBook-Title                                                                \n10 Lb. Penalty                                        0.0    0.0    0.0   \n16 Lighthouse Road                                    0.0    0.0    0.0   \n1984                                                  0.0    0.0    0.0   \n1st to Die: A Novel                                   0.0    0.0    0.0   \n2010: Odyssey Two                                     0.0    0.0    0.0   \n...                                                   ...    ...    ...   \nZen and the Art of Motorcycle Maintenance: An I...    0.0    0.0    0.0   \nZoya                                                  0.0    0.0    0.0   \n\\O\\\" Is for Outlaw\"                                   0.0    0.0    0.0   \n\\Surely You're Joking, Mr. Feynman!\\\": Adventur...    0.0    0.0    0.0   \nstardust                                              0.0    0.0    0.0   \n\n                                                                         \\\nUser-ID                                            278843 278844 278846   \nBook-Title                                                                \n10 Lb. Penalty                                        0.0    0.0    0.0   \n16 Lighthouse Road                                    0.0    0.0    0.0   \n1984                                                  0.0    0.0    0.0   \n1st to Die: A Novel                                   0.0    0.0    0.0   \n2010: Odyssey Two                                     0.0    0.0    0.0   \n...                                                   ...    ...    ...   \nZen and the Art of Motorcycle Maintenance: An I...    0.0    0.0    0.0   \nZoya                                                  0.0    0.0    0.0   \n\\O\\\" Is for Outlaw\"                                   0.0    0.0    0.0   \n\\Surely You're Joking, Mr. Feynman!\\\": Adventur...    0.0    0.0    0.0   \nstardust                                              0.0    0.0    0.0   \n\n                                                                  \nUser-ID                                            278851 278854  \nBook-Title                                                        \n10 Lb. Penalty                                        0.0    0.0  \n16 Lighthouse Road                                    0.0    0.0  \n1984                                                  0.0    0.0  \n1st to Die: A Novel                                   0.0    0.0  \n2010: Odyssey Two                                     0.0    0.0  \n...                                                   ...    ...  \nZen and the Art of Motorcycle Maintenance: An I...    0.0    0.0  \nZoya                                                  0.0    0.0  \n\\O\\\" Is for Outlaw\"                                   0.0    0.0  \n\\Surely You're Joking, Mr. Feynman!\\\": Adventur...    0.0    0.0  \nstardust                                              0.0    0.0  \n\n[2444 rows x 47994 columns]",
      "text/html": "<div>\n<style scoped>\n    .dataframe tbody tr th:only-of-type {\n        vertical-align: middle;\n    }\n\n    .dataframe tbody tr th {\n        vertical-align: top;\n    }\n\n    .dataframe thead tr th {\n        text-align: left;\n    }\n\n    .dataframe thead tr:last-of-type th {\n        text-align: right;\n    }\n</style>\n<table border=\"1\" class=\"dataframe\">\n  <thead>\n    <tr>\n      <th></th>\n      <th colspan=\"21\" halign=\"left\">Book-Rating</th>\n    </tr>\n    <tr>\n      <th>User-ID</th>\n      <th>8</th>\n      <th>9</th>\n      <th>14</th>\n      <th>16</th>\n      <th>17</th>\n      <th>19</th>\n      <th>23</th>\n      <th>26</th>\n      <th>32</th>\n      <th>39</th>\n      <th>...</th>\n      <th>278820</th>\n      <th>278824</th>\n      <th>278828</th>\n      <th>278832</th>\n      <th>278836</th>\n      <th>278843</th>\n      <th>278844</th>\n      <th>278846</th>\n      <th>278851</th>\n      <th>278854</th>\n    </tr>\n    <tr>\n      <th>Book-Title</th>\n      <th></th>\n      <th></th>\n      <th></th>\n      <th></th>\n      <th></th>\n      <th></th>\n      <th></th>\n      <th></th>\n      <th></th>\n      <th></th>\n      <th></th>\n      <th></th>\n      <th></th>\n      <th></th>\n      <th></th>\n      <th></th>\n      <th></th>\n      <th></th>\n      <th></th>\n      <th></th>\n      <th></th>\n    </tr>\n  </thead>\n  <tbody>\n    <tr>\n      <th>10 Lb. Penalty</th>\n      <td>0.0</td>\n      <td>0.0</td>\n      <td>0.0</td>\n      <td>0.0</td>\n      <td>0.0</td>\n      <td>0.0</td>\n      <td>0.0</td>\n      <td>0.0</td>\n      <td>0.0</td>\n      <td>0.0</td>\n      <td>...</td>\n      <td>0.0</td>\n      <td>0.0</td>\n      <td>0.0</td>\n      <td>0.0</td>\n      <td>0.0</td>\n      <td>0.0</td>\n      <td>0.0</td>\n      <td>0.0</td>\n      <td>0.0</td>\n      <td>0.0</td>\n    </tr>\n    <tr>\n      <th>16 Lighthouse Road</th>\n      <td>0.0</td>\n      <td>0.0</td>\n      <td>0.0</td>\n      <td>0.0</td>\n      <td>0.0</td>\n      <td>0.0</td>\n      <td>0.0</td>\n      <td>0.0</td>\n      <td>0.0</td>\n      <td>0.0</td>\n      <td>...</td>\n      <td>0.0</td>\n      <td>0.0</td>\n      <td>0.0</td>\n      <td>0.0</td>\n      <td>0.0</td>\n      <td>0.0</td>\n      <td>0.0</td>\n      <td>0.0</td>\n      <td>0.0</td>\n      <td>0.0</td>\n    </tr>\n    <tr>\n      <th>1984</th>\n      <td>0.0</td>\n      <td>0.0</td>\n      <td>0.0</td>\n      <td>0.0</td>\n      <td>0.0</td>\n      <td>0.0</td>\n      <td>0.0</td>\n      <td>0.0</td>\n      <td>0.0</td>\n      <td>0.0</td>\n      <td>...</td>\n      <td>0.0</td>\n      <td>0.0</td>\n      <td>0.0</td>\n      <td>0.0</td>\n      <td>0.0</td>\n      <td>0.0</td>\n      <td>0.0</td>\n      <td>0.0</td>\n      <td>0.0</td>\n      <td>0.0</td>\n    </tr>\n    <tr>\n      <th>1st to Die: A Novel</th>\n      <td>0.0</td>\n      <td>0.0</td>\n      <td>0.0</td>\n      <td>0.0</td>\n      <td>0.0</td>\n      <td>0.0</td>\n      <td>0.0</td>\n      <td>0.0</td>\n      <td>0.0</td>\n      <td>0.0</td>\n      <td>...</td>\n      <td>0.0</td>\n      <td>0.0</td>\n      <td>0.0</td>\n      <td>0.0</td>\n      <td>0.0</td>\n      <td>0.0</td>\n      <td>0.0</td>\n      <td>0.0</td>\n      <td>0.0</td>\n      <td>0.0</td>\n    </tr>\n    <tr>\n      <th>2010: Odyssey Two</th>\n      <td>0.0</td>\n      <td>0.0</td>\n      <td>0.0</td>\n      <td>0.0</td>\n      <td>0.0</td>\n      <td>0.0</td>\n      <td>0.0</td>\n      <td>0.0</td>\n      <td>0.0</td>\n      <td>0.0</td>\n      <td>...</td>\n      <td>0.0</td>\n      <td>0.0</td>\n      <td>0.0</td>\n      <td>0.0</td>\n      <td>0.0</td>\n      <td>0.0</td>\n      <td>0.0</td>\n      <td>0.0</td>\n      <td>0.0</td>\n      <td>0.0</td>\n    </tr>\n    <tr>\n      <th>...</th>\n      <td>...</td>\n      <td>...</td>\n      <td>...</td>\n      <td>...</td>\n      <td>...</td>\n      <td>...</td>\n      <td>...</td>\n      <td>...</td>\n      <td>...</td>\n      <td>...</td>\n      <td>...</td>\n      <td>...</td>\n      <td>...</td>\n      <td>...</td>\n      <td>...</td>\n      <td>...</td>\n      <td>...</td>\n      <td>...</td>\n      <td>...</td>\n      <td>...</td>\n      <td>...</td>\n    </tr>\n    <tr>\n      <th>Zen and the Art of Motorcycle Maintenance: An Inquiry into Values</th>\n      <td>0.0</td>\n      <td>0.0</td>\n      <td>0.0</td>\n      <td>0.0</td>\n      <td>0.0</td>\n      <td>0.0</td>\n      <td>0.0</td>\n      <td>0.0</td>\n      <td>0.0</td>\n      <td>0.0</td>\n      <td>...</td>\n      <td>0.0</td>\n      <td>0.0</td>\n      <td>0.0</td>\n      <td>0.0</td>\n      <td>0.0</td>\n      <td>0.0</td>\n      <td>0.0</td>\n      <td>0.0</td>\n      <td>0.0</td>\n      <td>0.0</td>\n    </tr>\n    <tr>\n      <th>Zoya</th>\n      <td>0.0</td>\n      <td>0.0</td>\n      <td>0.0</td>\n      <td>0.0</td>\n      <td>0.0</td>\n      <td>0.0</td>\n      <td>0.0</td>\n      <td>0.0</td>\n      <td>0.0</td>\n      <td>0.0</td>\n      <td>...</td>\n      <td>0.0</td>\n      <td>0.0</td>\n      <td>0.0</td>\n      <td>0.0</td>\n      <td>0.0</td>\n      <td>0.0</td>\n      <td>0.0</td>\n      <td>0.0</td>\n      <td>0.0</td>\n      <td>0.0</td>\n    </tr>\n    <tr>\n      <th>\\O\\\" Is for Outlaw\"</th>\n      <td>0.0</td>\n      <td>0.0</td>\n      <td>0.0</td>\n      <td>0.0</td>\n      <td>0.0</td>\n      <td>0.0</td>\n      <td>0.0</td>\n      <td>0.0</td>\n      <td>0.0</td>\n      <td>0.0</td>\n      <td>...</td>\n      <td>0.0</td>\n      <td>0.0</td>\n      <td>0.0</td>\n      <td>0.0</td>\n      <td>0.0</td>\n      <td>0.0</td>\n      <td>0.0</td>\n      <td>0.0</td>\n      <td>0.0</td>\n      <td>0.0</td>\n    </tr>\n    <tr>\n      <th>\\Surely You're Joking, Mr. Feynman!\\\": Adventures of a Curious Character\"</th>\n      <td>0.0</td>\n      <td>0.0</td>\n      <td>0.0</td>\n      <td>0.0</td>\n      <td>0.0</td>\n      <td>0.0</td>\n      <td>0.0</td>\n      <td>0.0</td>\n      <td>0.0</td>\n      <td>0.0</td>\n      <td>...</td>\n      <td>0.0</td>\n      <td>0.0</td>\n      <td>0.0</td>\n      <td>0.0</td>\n      <td>0.0</td>\n      <td>0.0</td>\n      <td>0.0</td>\n      <td>0.0</td>\n      <td>0.0</td>\n      <td>0.0</td>\n    </tr>\n    <tr>\n      <th>stardust</th>\n      <td>0.0</td>\n      <td>0.0</td>\n      <td>0.0</td>\n      <td>0.0</td>\n      <td>0.0</td>\n      <td>0.0</td>\n      <td>0.0</td>\n      <td>0.0</td>\n      <td>0.0</td>\n      <td>0.0</td>\n      <td>...</td>\n      <td>0.0</td>\n      <td>0.0</td>\n      <td>0.0</td>\n      <td>0.0</td>\n      <td>0.0</td>\n      <td>0.0</td>\n      <td>0.0</td>\n      <td>0.0</td>\n      <td>0.0</td>\n      <td>0.0</td>\n    </tr>\n  </tbody>\n</table>\n<p>2444 rows × 47994 columns</p>\n</div>"
     },
     "execution_count": 52,
     "metadata": {},
     "output_type": "execute_result"
    }
   ],
   "source": [
    "book_pivtable"
   ],
   "metadata": {
    "collapsed": false,
    "pycharm": {
     "name": "#%%\n"
    }
   }
  },
  {
   "cell_type": "code",
   "execution_count": 53,
   "outputs": [],
   "source": [
    "from scipy.sparse import csr_matrix"
   ],
   "metadata": {
    "collapsed": false,
    "pycharm": {
     "name": "#%%\n"
    }
   }
  },
  {
   "cell_type": "code",
   "execution_count": 54,
   "outputs": [],
   "source": [
    "book_sparse = csr_matrix(book_pivtable)"
   ],
   "metadata": {
    "collapsed": false,
    "pycharm": {
     "name": "#%%\n"
    }
   }
  },
  {
   "cell_type": "code",
   "execution_count": 55,
   "outputs": [
    {
     "data": {
      "text/plain": "<2444x47994 sparse matrix of type '<class 'numpy.float64'>'\n\twith 113444 stored elements in Compressed Sparse Row format>"
     },
     "execution_count": 55,
     "metadata": {},
     "output_type": "execute_result"
    }
   ],
   "source": [
    "book_sparse\n",
    "# removes zeros from the pivot table"
   ],
   "metadata": {
    "collapsed": false,
    "pycharm": {
     "name": "#%%\n"
    }
   }
  },
  {
   "cell_type": "code",
   "execution_count": 56,
   "outputs": [],
   "source": [
    "from sklearn.neighbors import NearestNeighbors\n",
    "model = NearestNeighbors(algorithm='brute')"
   ],
   "metadata": {
    "collapsed": false,
    "pycharm": {
     "name": "#%%\n"
    }
   }
  },
  {
   "cell_type": "code",
   "execution_count": 57,
   "outputs": [
    {
     "data": {
      "text/plain": "NearestNeighbors(algorithm='brute')",
      "text/html": "<style>#sk-container-id-1 {color: black;background-color: white;}#sk-container-id-1 pre{padding: 0;}#sk-container-id-1 div.sk-toggleable {background-color: white;}#sk-container-id-1 label.sk-toggleable__label {cursor: pointer;display: block;width: 100%;margin-bottom: 0;padding: 0.3em;box-sizing: border-box;text-align: center;}#sk-container-id-1 label.sk-toggleable__label-arrow:before {content: \"▸\";float: left;margin-right: 0.25em;color: #696969;}#sk-container-id-1 label.sk-toggleable__label-arrow:hover:before {color: black;}#sk-container-id-1 div.sk-estimator:hover label.sk-toggleable__label-arrow:before {color: black;}#sk-container-id-1 div.sk-toggleable__content {max-height: 0;max-width: 0;overflow: hidden;text-align: left;background-color: #f0f8ff;}#sk-container-id-1 div.sk-toggleable__content pre {margin: 0.2em;color: black;border-radius: 0.25em;background-color: #f0f8ff;}#sk-container-id-1 input.sk-toggleable__control:checked~div.sk-toggleable__content {max-height: 200px;max-width: 100%;overflow: auto;}#sk-container-id-1 input.sk-toggleable__control:checked~label.sk-toggleable__label-arrow:before {content: \"▾\";}#sk-container-id-1 div.sk-estimator input.sk-toggleable__control:checked~label.sk-toggleable__label {background-color: #d4ebff;}#sk-container-id-1 div.sk-label input.sk-toggleable__control:checked~label.sk-toggleable__label {background-color: #d4ebff;}#sk-container-id-1 input.sk-hidden--visually {border: 0;clip: rect(1px 1px 1px 1px);clip: rect(1px, 1px, 1px, 1px);height: 1px;margin: -1px;overflow: hidden;padding: 0;position: absolute;width: 1px;}#sk-container-id-1 div.sk-estimator {font-family: monospace;background-color: #f0f8ff;border: 1px dotted black;border-radius: 0.25em;box-sizing: border-box;margin-bottom: 0.5em;}#sk-container-id-1 div.sk-estimator:hover {background-color: #d4ebff;}#sk-container-id-1 div.sk-parallel-item::after {content: \"\";width: 100%;border-bottom: 1px solid gray;flex-grow: 1;}#sk-container-id-1 div.sk-label:hover label.sk-toggleable__label {background-color: #d4ebff;}#sk-container-id-1 div.sk-serial::before {content: \"\";position: absolute;border-left: 1px solid gray;box-sizing: border-box;top: 0;bottom: 0;left: 50%;z-index: 0;}#sk-container-id-1 div.sk-serial {display: flex;flex-direction: column;align-items: center;background-color: white;padding-right: 0.2em;padding-left: 0.2em;position: relative;}#sk-container-id-1 div.sk-item {position: relative;z-index: 1;}#sk-container-id-1 div.sk-parallel {display: flex;align-items: stretch;justify-content: center;background-color: white;position: relative;}#sk-container-id-1 div.sk-item::before, #sk-container-id-1 div.sk-parallel-item::before {content: \"\";position: absolute;border-left: 1px solid gray;box-sizing: border-box;top: 0;bottom: 0;left: 50%;z-index: -1;}#sk-container-id-1 div.sk-parallel-item {display: flex;flex-direction: column;z-index: 1;position: relative;background-color: white;}#sk-container-id-1 div.sk-parallel-item:first-child::after {align-self: flex-end;width: 50%;}#sk-container-id-1 div.sk-parallel-item:last-child::after {align-self: flex-start;width: 50%;}#sk-container-id-1 div.sk-parallel-item:only-child::after {width: 0;}#sk-container-id-1 div.sk-dashed-wrapped {border: 1px dashed gray;margin: 0 0.4em 0.5em 0.4em;box-sizing: border-box;padding-bottom: 0.4em;background-color: white;}#sk-container-id-1 div.sk-label label {font-family: monospace;font-weight: bold;display: inline-block;line-height: 1.2em;}#sk-container-id-1 div.sk-label-container {text-align: center;}#sk-container-id-1 div.sk-container {/* jupyter's `normalize.less` sets `[hidden] { display: none; }` but bootstrap.min.css set `[hidden] { display: none !important; }` so we also need the `!important` here to be able to override the default hidden behavior on the sphinx rendered scikit-learn.org. See: https://github.com/scikit-learn/scikit-learn/issues/21755 */display: inline-block !important;position: relative;}#sk-container-id-1 div.sk-text-repr-fallback {display: none;}</style><div id=\"sk-container-id-1\" class=\"sk-top-container\"><div class=\"sk-text-repr-fallback\"><pre>NearestNeighbors(algorithm=&#x27;brute&#x27;)</pre><b>In a Jupyter environment, please rerun this cell to show the HTML representation or trust the notebook. <br />On GitHub, the HTML representation is unable to render, please try loading this page with nbviewer.org.</b></div><div class=\"sk-container\" hidden><div class=\"sk-item\"><div class=\"sk-estimator sk-toggleable\"><input class=\"sk-toggleable__control sk-hidden--visually\" id=\"sk-estimator-id-1\" type=\"checkbox\" checked><label for=\"sk-estimator-id-1\" class=\"sk-toggleable__label sk-toggleable__label-arrow\">NearestNeighbors</label><div class=\"sk-toggleable__content\"><pre>NearestNeighbors(algorithm=&#x27;brute&#x27;)</pre></div></div></div></div></div>"
     },
     "execution_count": 57,
     "metadata": {},
     "output_type": "execute_result"
    }
   ],
   "source": [
    "model.fit(book_sparse)"
   ],
   "metadata": {
    "collapsed": false,
    "pycharm": {
     "name": "#%%\n"
    }
   }
  },
  {
   "cell_type": "code",
   "execution_count": 58,
   "outputs": [],
   "source": [
    "distance, suggestion = model.kneighbors(book_pivtable.iloc[34,:].values.reshape(1, -1), n_neighbors=6)"
   ],
   "metadata": {
    "collapsed": false,
    "pycharm": {
     "name": "#%%\n"
    }
   }
  },
  {
   "cell_type": "code",
   "execution_count": 59,
   "outputs": [
    {
     "data": {
      "text/plain": "array([[ 0.        , 44.15880433, 44.33959855, 45.033321  , 45.18849411,\n        45.39823785]])"
     },
     "execution_count": 59,
     "metadata": {},
     "output_type": "execute_result"
    }
   ],
   "source": [
    "distance"
   ],
   "metadata": {
    "collapsed": false,
    "pycharm": {
     "name": "#%%\n"
    }
   }
  },
  {
   "cell_type": "markdown",
   "source": [
    "###### <font color = 'orange'> Distance represents the distance between the selected book and the recommended book based on the selected book."
   ],
   "metadata": {
    "collapsed": false,
    "pycharm": {
     "name": "#%% md\n"
    }
   }
  },
  {
   "cell_type": "code",
   "execution_count": 60,
   "outputs": [
    {
     "data": {
      "text/plain": "array([[  34,  770,   65, 1713,   99, 1581]], dtype=int64)"
     },
     "execution_count": 60,
     "metadata": {},
     "output_type": "execute_result"
    }
   ],
   "source": [
    "suggestion"
   ],
   "metadata": {
    "collapsed": false,
    "pycharm": {
     "name": "#%%\n"
    }
   }
  },
  {
   "cell_type": "code",
   "execution_count": 61,
   "outputs": [
    {
     "name": "stdout",
     "output_type": "stream",
     "text": [
      "['A Heartbreaking Work Of Staggering Genius : A Memoir Based on a True Story'\n",
      " 'Ground Zero and Beyond' 'A Secret Affair' 'The Blooding' 'About Face'\n",
      " 'Ssn']\n"
     ]
    }
   ],
   "source": [
    "for i in range(len(suggestion)):\n",
    "    print(book_pivtable.index[suggestion][i])"
   ],
   "metadata": {
    "collapsed": false,
    "pycharm": {
     "name": "#%%\n"
    }
   }
  },
  {
   "cell_type": "code",
   "execution_count": 62,
   "outputs": [],
   "source": [
    "book_names = book_pivtable.index"
   ],
   "metadata": {
    "collapsed": false,
    "pycharm": {
     "name": "#%%\n"
    }
   }
  },
  {
   "cell_type": "code",
   "execution_count": 63,
   "outputs": [],
   "source": [
    "import pickle\n",
    "pickle.dump(model, open('book_recommender.pkl', 'wb'))\n",
    "pickle.dump(book_names, open('book_titles.pkl', 'wb'))\n",
    "pickle.dump(final, open('final.pkl', 'wb'))\n",
    "pickle.dump(book_pivtable, open('book_pivot.pkl', 'wb'))"
   ],
   "metadata": {
    "collapsed": false,
    "pycharm": {
     "name": "#%%\n"
    }
   }
  },
  {
   "cell_type": "code",
   "execution_count": 64,
   "outputs": [],
   "source": [
    "def book_recommender(book_name):\n",
    "    book_id = np.where(book_pivtable.index == book_name)[0][0]\n",
    "    distance, suggestion = model.kneighbors(book_pivtable.iloc[book_id,:].values.reshape(1, -1), n_neighbors=6)\n",
    "\n",
    "    for i in range(len(suggestion)):\n",
    "        books = book_pivtable.index[suggestion[i]]\n",
    "        for j in books:\n",
    "            print(j)"
   ],
   "metadata": {
    "collapsed": false,
    "pycharm": {
     "name": "#%%\n"
    }
   }
  },
  {
   "cell_type": "code",
   "execution_count": 65,
   "outputs": [
    {
     "name": "stdout",
     "output_type": "stream",
     "text": [
      "Wuthering Heights\n",
      "Ground Zero and Beyond\n",
      "A Secret Affair\n",
      "Women in His Life\n",
      "Whirlwind\n",
      "The Blooding\n"
     ]
    }
   ],
   "source": [
    "book_name = 'Wuthering Heights'\n",
    "book_recommender(book_name)"
   ],
   "metadata": {
    "collapsed": false,
    "pycharm": {
     "name": "#%%\n"
    }
   }
  },
  {
   "cell_type": "code",
   "execution_count": 65,
   "outputs": [],
   "source": [],
   "metadata": {
    "collapsed": false,
    "pycharm": {
     "name": "#%%\n"
    }
   }
  }
 ],
 "metadata": {
  "kernelspec": {
   "display_name": "Python 3",
   "language": "python",
   "name": "python3"
  },
  "language_info": {
   "codemirror_mode": {
    "name": "ipython",
    "version": 2
   },
   "file_extension": ".py",
   "mimetype": "text/x-python",
   "name": "python",
   "nbconvert_exporter": "python",
   "pygments_lexer": "ipython2",
   "version": "2.7.6"
  }
 },
 "nbformat": 4,
 "nbformat_minor": 0
}